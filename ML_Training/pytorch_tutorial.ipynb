{
 "cells": [
  {
   "cell_type": "markdown",
   "metadata": {},
   "source": [
    "# Pytorch Tutorial"
   ]
  },
  {
   "cell_type": "markdown",
   "metadata": {},
   "source": [
    "## 0. Quickstart"
   ]
  },
  {
   "cell_type": "code",
   "execution_count": 2,
   "metadata": {},
   "outputs": [
    {
     "name": "stdout",
     "output_type": "stream",
     "text": [
      "Shape of X [N, C, H, W]: torch.Size([64, 1, 28, 28])\n",
      "Shape of y: torch.Size([64]) torch.int64\n"
     ]
    }
   ],
   "source": [
    "import torch\n",
    "from torch import nn\n",
    "from torch.utils.data import DataLoader\n",
    "from torchvision import datasets\n",
    "from torchvision.transforms import ToTensor\n",
    "\n",
    "training_data = datasets.FashionMNIST(\n",
    "  root=\"data\",\n",
    "  train =True,\n",
    "  download = True,\n",
    "  transform=ToTensor(),\n",
    ")\n",
    "test_data = datasets.FashionMNIST(\n",
    "    root=\"data\",\n",
    "    train=False,\n",
    "    download=True,\n",
    "    transform=ToTensor(),\n",
    ")\n",
    "\n",
    "batch_size = 64\n",
    "\n",
    "train_dataloader = DataLoader(training_data, batch_size=batch_size)\n",
    "test_dataloader = DataLoader(test_data, batch_size = batch_size)\n",
    "\n",
    "for X, y in test_dataloader :\n",
    "  print(f\"Shape of X [N, C, H, W]: {X.shape}\")\n",
    "  print(f\"Shape of y: {y.shape} {y.dtype}\")\n",
    "  break\n"
   ]
  },
  {
   "cell_type": "markdown",
   "metadata": {},
   "source": [
    "## 1. Tensor\n",
    "\n",
    "---\n"
   ]
  },
  {
   "cell_type": "code",
   "execution_count": 3,
   "metadata": {},
   "outputs": [],
   "source": [
    "import torch\n",
    "import numpy as np"
   ]
  },
  {
   "cell_type": "markdown",
   "metadata": {},
   "source": [
    "### 1-1. Initializing a Tensor"
   ]
  },
  {
   "cell_type": "markdown",
   "metadata": {},
   "source": [
    "* Directly from data"
   ]
  },
  {
   "cell_type": "code",
   "execution_count": 4,
   "metadata": {},
   "outputs": [],
   "source": [
    "data = [[1, 2], [3, 4]]\n",
    "x_data = torch.tensor(data)"
   ]
  },
  {
   "cell_type": "markdown",
   "metadata": {},
   "source": [
    "* From a NumPy array"
   ]
  },
  {
   "cell_type": "code",
   "execution_count": 5,
   "metadata": {},
   "outputs": [],
   "source": [
    "np_array = np.array(data)\n",
    "x_np = torch.from_numpy(np_array)"
   ]
  },
  {
   "cell_type": "markdown",
   "metadata": {},
   "source": [
    "* From another tensor"
   ]
  },
  {
   "cell_type": "code",
   "execution_count": 6,
   "metadata": {},
   "outputs": [
    {
     "name": "stdout",
     "output_type": "stream",
     "text": [
      "Ones Tensor: \n",
      " tensor([[1, 1],\n",
      "        [1, 1]]) \n",
      "\n",
      "Random Tensor: \n",
      " tensor([[0.5660, 0.6474],\n",
      "        [0.5716, 0.4188]]) \n",
      "\n"
     ]
    }
   ],
   "source": [
    "x_ones = torch.ones_like(x_data) # retains the properties of x_data\n",
    "print(f\"Ones Tensor: \\n {x_ones} \\n\")\n",
    "\n",
    "x_rand = torch.rand_like(x_data, dtype=torch.float) # overrides the datatype of x_data\n",
    "print(f\"Random Tensor: \\n {x_rand} \\n\")"
   ]
  },
  {
   "cell_type": "markdown",
   "metadata": {},
   "source": [
    "* With random or constant values"
   ]
  },
  {
   "cell_type": "code",
   "execution_count": 7,
   "metadata": {},
   "outputs": [
    {
     "name": "stdout",
     "output_type": "stream",
     "text": [
      "Random Tensor: \n",
      " tensor([[0.9239, 0.1170, 0.5714],\n",
      "        [0.2597, 0.9425, 0.0952]]) \n",
      "\n",
      "Ones Tensor: \n",
      " tensor([[1., 1., 1.],\n",
      "        [1., 1., 1.]]) \n",
      "\n",
      "Zeros Tensor: \n",
      " tensor([[0., 0., 0.],\n",
      "        [0., 0., 0.]])\n"
     ]
    }
   ],
   "source": [
    "shape = (2,3,)\n",
    "rand_tensor = torch.rand(shape)\n",
    "ones_tensor = torch.ones(shape)\n",
    "zeros_tensor = torch.zeros(shape)\n",
    "\n",
    "print(f\"Random Tensor: \\n {rand_tensor} \\n\")\n",
    "print(f\"Ones Tensor: \\n {ones_tensor} \\n\")\n",
    "print(f\"Zeros Tensor: \\n {zeros_tensor}\")"
   ]
  },
  {
   "cell_type": "markdown",
   "metadata": {},
   "source": [
    "### 1-2. Attributes(속성) of a Tensor\n",
    "\n",
    "텐서의 속성은  \n",
    "    \n",
    "        shape(모양)\n",
    "        dtype(datatype, 자료형)\n",
    "        device(저장되는 장치)\n",
    "\n",
    "  이 존재한다."
   ]
  },
  {
   "cell_type": "code",
   "execution_count": 8,
   "metadata": {},
   "outputs": [
    {
     "name": "stdout",
     "output_type": "stream",
     "text": [
      "Shape of tensor: torch.Size([3, 4])\n",
      "Datatype of tensor: torch.float32\n",
      "Device tensor is stored on: cpu\n"
     ]
    }
   ],
   "source": [
    "tensor = torch.rand(3,4)\n",
    "\n",
    "print(f\"Shape of tensor: {tensor.shape}\")\n",
    "print(f\"Datatype of tensor: {tensor.dtype}\")\n",
    "print(f\"Device tensor is stored on: {tensor.device}\")"
   ]
  },
  {
   "cell_type": "markdown",
   "metadata": {},
   "source": [
    "### 1-3. Operations on Tensors"
   ]
  },
  {
   "cell_type": "markdown",
   "metadata": {},
   "source": [
    "* **텐서의 이동**\n",
    "  \n",
    "  텐서는 `to` 메서드를 이용해 CPU에서 GPU로 이동이 가능하다."
   ]
  },
  {
   "cell_type": "code",
   "execution_count": 9,
   "metadata": {},
   "outputs": [],
   "source": [
    "# if torch.cuda.is_available():\n",
    "#   tensor = tensor.to(\"cuda\")\n",
    "\n",
    "# 맥북이라면\n",
    "\n",
    "if torch.backends.mps.is_available():\n",
    "  tensor = tensor.to(\"mps\")"
   ]
  },
  {
   "cell_type": "markdown",
   "metadata": {},
   "source": [
    "* **NumPy식 표준 인덱싱과 슬라이싱**"
   ]
  },
  {
   "cell_type": "code",
   "execution_count": 10,
   "metadata": {},
   "outputs": [
    {
     "name": "stdout",
     "output_type": "stream",
     "text": [
      "First row: tensor([1., 1., 1., 1.])\n",
      "First Column: tensor([1., 1., 1., 1.])\n",
      "Last Column: tensor([1., 1., 1., 1.])\n",
      "tensor([[1., 0., 1., 1.],\n",
      "        [1., 0., 1., 1.],\n",
      "        [1., 0., 1., 1.],\n",
      "        [1., 0., 1., 1.]])\n"
     ]
    }
   ],
   "source": [
    "tensor = torch.ones(4,4)\n",
    "print(f\"First row: {tensor[0]}\")\n",
    "print(f\"First Column: {tensor[:,0]}\")\n",
    "print(f\"Last Column: {tensor[...,-1]}\")\n",
    "tensor[:,1] = 0\n",
    "print(tensor)"
   ]
  },
  {
   "cell_type": "markdown",
   "metadata": {},
   "source": [
    "* **텐서 합치기**"
   ]
  },
  {
   "cell_type": "code",
   "execution_count": 11,
   "metadata": {},
   "outputs": [
    {
     "name": "stdout",
     "output_type": "stream",
     "text": [
      "torch.Size([12, 4])\n",
      "torch.Size([4, 12])\n",
      "torch.Size([3, 4, 4])\n",
      "torch.Size([4, 3, 4])\n"
     ]
    }
   ],
   "source": [
    "t1 = torch.cat([tensor, tensor, tensor], dim = 0) # dim = 0 means concatenate tensor along column dim\n",
    "print(t1.shape)\n",
    "\n",
    "t2 = torch.cat([tensor, tensor, tensor], dim = 1)\n",
    "print(t2.shape)\n",
    "\n",
    "t3 = torch.stack([tensor, tensor, tensor], dim = 0) # torch.stack: concatenate with new dim\n",
    "print(t3.shape)\n",
    "\n",
    "t4 = torch.stack([tensor, tensor, tensor], dim=1)\n",
    "print(t4.shape)"
   ]
  },
  {
   "cell_type": "markdown",
   "metadata": {},
   "source": [
    "* **산술 연산**"
   ]
  },
  {
   "cell_type": "code",
   "execution_count": 12,
   "metadata": {},
   "outputs": [
    {
     "data": {
      "text/plain": [
       "tensor([[1., 0., 1., 1.],\n",
       "        [1., 0., 1., 1.],\n",
       "        [1., 0., 1., 1.],\n",
       "        [1., 0., 1., 1.]])"
      ]
     },
     "execution_count": 12,
     "metadata": {},
     "output_type": "execute_result"
    }
   ],
   "source": [
    "# matrix multiplication\n",
    "# y1, y2, y3 will have the same value\n",
    "y1 = tensor @ tensor.T \n",
    "y2 = tensor.matmul(tensor.T)\n",
    "\n",
    "y3 = torch.rand_like(y1)\n",
    "torch.matmul(tensor, tensor.T, out=y3)\n",
    "\n",
    "# element-wise product\n",
    "z1 = tensor * tensor\n",
    "z2 = tensor.mul(tensor)\n",
    "\n",
    "z3 = torch.rand_like(tensor)\n",
    "torch.mul(tensor, tensor, out=z3)"
   ]
  },
  {
   "cell_type": "markdown",
   "metadata": {},
   "source": [
    "* **단일-요소(single-element) 텐서**  \n",
    "\n",
    "  텐서의 모든 값을 집계(aggregate)하여 요소가 하나인 텐서는 `item()` 메서드를 사용해 Python 숫자 값으로 변환 가능하다."
   ]
  },
  {
   "cell_type": "code",
   "execution_count": 13,
   "metadata": {},
   "outputs": [
    {
     "name": "stdout",
     "output_type": "stream",
     "text": [
      "12.0 <class 'float'>\n"
     ]
    }
   ],
   "source": [
    "agg = tensor.sum()\n",
    "agg_item = agg.item()\n",
    "print(agg_item, type(agg_item))"
   ]
  },
  {
   "cell_type": "markdown",
   "metadata": {},
   "source": [
    "### 1-4. Bridge with NumPy\n",
    "\n",
    "CPU상의 텐서와 NumPy배열은 **메모리 공간을 공유**하기 떄문에, 하나를 변경하면 다른 하나도 변경된다."
   ]
  },
  {
   "cell_type": "markdown",
   "metadata": {},
   "source": [
    "* **Tensor to NumPy array**"
   ]
  },
  {
   "cell_type": "code",
   "execution_count": 14,
   "metadata": {},
   "outputs": [
    {
     "name": "stdout",
     "output_type": "stream",
     "text": [
      "t: tensor([1., 1., 1., 1., 1.])\n",
      "n: [1. 1. 1. 1. 1.]\n"
     ]
    }
   ],
   "source": [
    "t = torch.ones(5)\n",
    "print(f\"t: {t}\")\n",
    "n = t.numpy()\n",
    "print(f\"n: {n}\")"
   ]
  },
  {
   "cell_type": "code",
   "execution_count": 15,
   "metadata": {},
   "outputs": [
    {
     "name": "stdout",
     "output_type": "stream",
     "text": [
      "t: tensor([2., 2., 2., 2., 2.])\n",
      "n: [2. 2. 2. 2. 2.]\n",
      "t: tensor([3., 3., 3., 3., 3.])\n",
      "n: [3. 3. 3. 3. 3.]\n"
     ]
    }
   ],
   "source": [
    "t.add_(1)\n",
    "print(f\"t: {t}\")\n",
    "print(f\"n: {n}\")\n",
    "\n",
    "np.add(n,1,out=n)\n",
    "print(f\"t: {t}\")\n",
    "print(f\"n: {n}\")"
   ]
  },
  {
   "cell_type": "markdown",
   "metadata": {},
   "source": [
    "* **NumPy array to Tensor**"
   ]
  },
  {
   "cell_type": "code",
   "execution_count": 16,
   "metadata": {},
   "outputs": [
    {
     "name": "stdout",
     "output_type": "stream",
     "text": [
      "n: [2. 2. 2. 2. 2.]\n",
      "t: tensor([2., 2., 2., 2., 2.], dtype=torch.float64)\n"
     ]
    }
   ],
   "source": [
    "n = np.ones(5)\n",
    "t = torch.from_numpy(n)\n",
    "\n",
    "np.add(n,1,out=n)\n",
    "print(f\"n: {n}\")\n",
    "print(f\"t: {t}\")"
   ]
  },
  {
   "cell_type": "markdown",
   "metadata": {},
   "source": [
    "## 2. Datasets & DataLoaders\n",
    "\n",
    "---"
   ]
  },
  {
   "cell_type": "markdown",
   "metadata": {},
   "source": [
    "더 나은 가독성(Readability)와 모듈성(modularity)을 위해, 데이터셋 코드를 모델 학습 코드로부터 분리하는 것이 이상적이다.  \n",
    "이를 위해 pytorch에서는 2가지 데이터 기본 요소를 제공한다. \n",
    "\n",
    "\n",
    "`torch.utils.data.Dataset` : 샘플과 정답(label)을 저장  \n",
    "\n",
    "`torch.utils.data.DataLoader` : `dataset`을 `iterable`(순회 가능한 객체)로 감싸는 역할  "
   ]
  },
  {
   "cell_type": "markdown",
   "metadata": {},
   "source": [
    "### 2-1. Loading a Dataset"
   ]
  },
  {
   "cell_type": "markdown",
   "metadata": {},
   "source": [
    "`Fashion-MNIST` 데이터셋을 불러온다. 각 예제는 28x28 Grayscale Image와 10 Class중 하나인 Label로 구성된다.  \n",
    "\n",
    "다음 매개변수들을 사용하여 `FashionMNIST` 데이터셋을 불러온다.  \n",
    "\n",
    "* `root`: 학습/테스트 데이터가 저장되는 경로\n",
    "* `train`: 학습용/테스트용 데이터셋 여부 지정\n",
    "* `download=True`: `root`에 데이터가 없는 경우 다운로드\n",
    "* `transform` `target_transform`: 특징(feature)과 정답(label) 변형(transform)을 지정"
   ]
  },
  {
   "cell_type": "code",
   "execution_count": 17,
   "metadata": {},
   "outputs": [],
   "source": [
    "import torch\n",
    "from torch.utils.data import Dataset\n",
    "from torchvision import datasets\n",
    "from torchvision.transforms import ToTensor\n",
    "import matplotlib.pyplot as plt\n",
    "\n",
    "training_data = datasets.FashionMNIST(\n",
    "  root=\"data\",\n",
    "  train=True,\n",
    "  download=True,\n",
    "  transform=ToTensor(),\n",
    ")\n",
    "\n",
    "test_data = datasets.FashionMNIST(\n",
    "    root=\"data\",\n",
    "    train=False,\n",
    "    download=True,\n",
    "    transform=ToTensor(),\n",
    ")"
   ]
  },
  {
   "cell_type": "markdown",
   "metadata": {},
   "source": [
    "### 2-2. Iterating and Visualizing the Dataset"
   ]
  },
  {
   "cell_type": "code",
   "execution_count": 18,
   "metadata": {},
   "outputs": [
    {
     "data": {
      "image/png": "[encoded data removed]",
      "text/plain": [
       "<Figure size 800x800 with 9 Axes>"
      ]
     },
     "metadata": {},
     "output_type": "display_data"
    }
   ],
   "source": [
    "labels_map = {\n",
    "    0: \"T-Shirt\",\n",
    "    1: \"Trouser\",\n",
    "    2: \"Pullover\",\n",
    "    3: \"Dress\",\n",
    "    4: \"Coat\",\n",
    "    5: \"Sandal\",\n",
    "    6: \"Shirt\",\n",
    "    7: \"Sneaker\",\n",
    "    8: \"Bag\",\n",
    "    9: \"Ankle Boot\",\n",
    "}\n",
    "figure = plt.figure(figsize=(8,8))\n",
    "cols, rows = 3, 3\n",
    "for i in range(1, cols*rows+1):\n",
    "  sample_idx = torch.randint(len(training_data), size=(1,)).item()\n",
    "  img, label = training_data[sample_idx]\n",
    "  figure.add_subplot(rows, cols, i)\n",
    "  plt.title(labels_map[label])\n",
    "  plt.axis(\"off\")\n",
    "  plt.imshow(img.squeeze(), cmap=\"gray\")\n",
    "plt.show()"
   ]
  },
  {
   "cell_type": "markdown",
   "metadata": {},
   "source": [
    "### 2-3. Creating a Custom Dataset for your files"
   ]
  },
  {
   "cell_type": "markdown",
   "metadata": {},
   "source": [
    "사용자 정의 Dataset 클래스는 반드시 3개의 함수를 구현해야 한다.  \n",
    "\n",
    "* `__init__`\n",
    "* `__len__`\n",
    "* `__getitem__`"
   ]
  },
  {
   "cell_type": "code",
   "execution_count": 19,
   "metadata": {},
   "outputs": [],
   "source": [
    "import os\n",
    "import pandas as pd\n",
    "from torchvision.io import read_image\n",
    "\n",
    "class CustomImageDataset(Dataset):\n",
    "  def __init__(self, annotations_file, img_dir, transform=None, target_transform=None):\n",
    "    self.img_labels = pd.read_csv(annotations_file, names=['file_name', 'label'])\n",
    "    self.img_dir = img_dir\n",
    "    self.transform = transform\n",
    "    self.target_transform = target_transform\n",
    "\n",
    "  def __len__(self):\n",
    "    return len(self.img_labels)\n",
    "  \n",
    "  def __getitem__(self, idx):\n",
    "    img_path = os.path.join(self.img_dir, self.img_labels.iloc[idx, 0])\n",
    "    image = read_image(img_path)\n",
    "    label = self.img_labels.iloc[idx,1]\n",
    "    if self.transform:\n",
    "      image = self.transform(image)\n",
    "    if self.target_transform:\n",
    "      label = self.target_transform(label)\n",
    "    return image, label"
   ]
  },
  {
   "cell_type": "markdown",
   "metadata": {},
   "source": [
    "#### **\\_\\_init\\_\\_**\n",
    "\n",
    "**\\_\\_init\\_\\_** 함수는 Dataset 객체가 생성(instantiate)될 때 한 번만 실행된다."
   ]
  },
  {
   "cell_type": "markdown",
   "metadata": {},
   "source": [
    "#### **\\_\\_len\\_\\_**  \n",
    "\n",
    "`__len__` 함수는 데이터셋의 샘플 개수를 반환한다."
   ]
  },
  {
   "cell_type": "markdown",
   "metadata": {},
   "source": [
    "#### **\\_\\_getitem\\_\\_**  \n",
    "\n",
    "`__getitem__` 함수는 주어진 인덱스에 해당하는 샘플을 데이터셋에서 불러오고, 반환한다.  \n",
    "인덱스를 기반 디스크에서 이미지의 위치를 식별,   \n",
    "`read_image`를 사용하여 이미지를 텐서로 변환,  \n",
    "`self.img_labels`의 csv데이터로부터 label을 가져오고,  \n",
    "(해당하는 경우) transform 함수를 호출한 뒤,  \n",
    "텐서 이미지와 라벨을 Python Dict형으로 반환한다."
   ]
  },
  {
   "cell_type": "markdown",
   "metadata": {},
   "source": [
    "### 2-4. DataLoader"
   ]
  },
  {
   "cell_type": "markdown",
   "metadata": {},
   "source": [
    "모델을 학습할 때, 샘플들을 minibatch로 전달하고, 매 epoch마다 데이터를 섞어서 overfit을 막고, Python의 Multiprocessing을 사용해 데이터 검색 속도를 높이려 한다.  \n",
    "\n",
    "`DataLoader`는 간단한 API로 이 과정을 추상화한 순회 가능한 객체(iterable)이다."
   ]
  },
  {
   "cell_type": "code",
   "execution_count": 20,
   "metadata": {},
   "outputs": [],
   "source": [
    "from torch.utils.data import DataLoader\n",
    "\n",
    "train_dataloader = DataLoader(training_data, batch_size = 64, shuffle=True)\n",
    "test_dataloader = DataLoader(test_data, batch_size = 64, shuffle = True)"
   ]
  },
  {
   "cell_type": "markdown",
   "metadata": {},
   "source": [
    "`DataLoader`에 데이터셋을 불러온 뒤, 필요에 따라 데이터셋을 순회(iterate)할 수 있다.  \n",
    "\n",
    "아래의 각 순회(iteration)은 `train_features`(각각 `batch_size=64`의 feature과 label을 포함)와 `train_labels`의 batch를 반환한다.  "
   ]
  },
  {
   "cell_type": "code",
   "execution_count": 21,
   "metadata": {},
   "outputs": [
    {
     "name": "stdout",
     "output_type": "stream",
     "text": [
      "Feature batch shape: torch.Size([64, 1, 28, 28])\n",
      "Labels batch shape: torch.Size([64])\n"
     ]
    },
    {
     "data": {
      "image/png": "[encoded data removed]",
      "text/plain": [
       "<Figure size 640x480 with 1 Axes>"
      ]
     },
     "metadata": {},
     "output_type": "display_data"
    },
    {
     "name": "stdout",
     "output_type": "stream",
     "text": [
      "Label: 0\n"
     ]
    }
   ],
   "source": [
    "train_features, train_labels = next(iter(train_dataloader))\n",
    "print(f\"Feature batch shape: {train_features.size()}\")\n",
    "print(f\"Labels batch shape: {train_labels.size()}\")\n",
    "img = train_features[0].squeeze()\n",
    "label = train_labels[0]\n",
    "plt.imshow(img, cmap=\"gray\")\n",
    "plt.show()\n",
    "print(f\"Label: {label}\")"
   ]
  },
  {
   "cell_type": "markdown",
   "metadata": {},
   "source": [
    "## 3. Transform  "
   ]
  },
  {
   "cell_type": "markdown",
   "metadata": {},
   "source": [
    "Raw Data가 항상 ML Algorithm 학습에 필요한 최종 처리가 된 형태로 제공되지는 않는다. 이에 **Transform**을 해서 데이터를 조작, 학습에 적합하게 만든다.  \n",
    "\n",
    "모든 TorchVision 데이터셋은 Transformation Logic을 갖는 callable(호출 가능한 객체)를 받는 매개변수 2개를 갖는다.\n",
    "* `transform`: feature를 변형\n",
    "* `target_transform`: label을 변형\n",
    "\n",
    "FashionMNIST의 feature은 PIL Image 형식이고, label은 integer이다. 학습을 위해서는 normalized tensor 형태의 feature와 one-hot encoded tensor 형태의 label이 필요하다. 이를 위해 `ToTensor`와 `Lambda`를 사용한다."
   ]
  },
  {
   "cell_type": "code",
   "execution_count": 22,
   "metadata": {},
   "outputs": [],
   "source": [
    "import torch\n",
    "from torchvision import datasets\n",
    "from torchvision.transforms import ToTensor, Lambda\n",
    "\n",
    "ds = datasets.FashionMNIST(\n",
    "  root = \"data\",\n",
    "  train=True,\n",
    "  download=True,\n",
    "  transform=ToTensor(),\n",
    "  target_transform = Lambda(lambda y : torch.zeros(10, dtype=torch.float).scatter_(0,torch.tensor(y), value=1))\n",
    ")"
   ]
  },
  {
   "cell_type": "markdown",
   "metadata": {},
   "source": [
    "#### **ToTensor()**"
   ]
  },
  {
   "cell_type": "markdown",
   "metadata": {},
   "source": [
    "`ToTensor()`은 PIL Image나 NumPy `ndarray`를 `FloatTensor`로 변환하고, 이미지 픽셀의 크기(intensity) 값을 [0.,1.] 범위로 비례하여 조정한다.  "
   ]
  },
  {
   "cell_type": "markdown",
   "metadata": {},
   "source": [
    "#### Lambda Transform"
   ]
  },
  {
   "cell_type": "markdown",
   "metadata": {},
   "source": [
    "사용자 정의 lambda함수를 적용한다.  \n",
    "\n",
    "먼저 크기 10짜리 zero tensor를 만들고, `scatter_`를 호출하여 주어진 정답 y에 해당하는 인덱스에 `value=1`을 할당"
   ]
  },
  {
   "cell_type": "markdown",
   "metadata": {},
   "source": [
    "## 4. Build the Neural Network"
   ]
  },
  {
   "cell_type": "markdown",
   "metadata": {},
   "source": [
    "신경망은 layer(계층), module(모듈)로 구성되어 있다. PyTorch의 모든 모듈은 `nn.Module`의 하위 클래스이다. 신경망은 다른 모듈(layers)들을 포함하고 있는 모듈 그 자체이다."
   ]
  },
  {
   "cell_type": "code",
   "execution_count": 23,
   "metadata": {},
   "outputs": [],
   "source": [
    "import os\n",
    "import torch\n",
    "from torch import nn\n",
    "from torch.utils.data import DataLoader\n",
    "from torchvision import datasets, transforms"
   ]
  },
  {
   "cell_type": "markdown",
   "metadata": {},
   "source": [
    "### 4-1. Get Device for Training"
   ]
  },
  {
   "cell_type": "code",
   "execution_count": 28,
   "metadata": {},
   "outputs": [
    {
     "name": "stdout",
     "output_type": "stream",
     "text": [
      "Using \"mps\" device\n"
     ]
    }
   ],
   "source": [
    "device = (\n",
    "  \"cuda\" \n",
    "  if torch.cuda.is_available()\n",
    "  else \"mps\"\n",
    "  if torch.backends.mps.is_available()\n",
    "  else \"cpu\"\n",
    ")\n",
    "print(f\"Using \\\"{device}\\\" device\")"
   ]
  },
  {
   "cell_type": "markdown",
   "metadata": {},
   "source": [
    "### 4-2. Define the Class"
   ]
  },
  {
   "cell_type": "markdown",
   "metadata": {},
   "source": [
    "신경망 모델을 `nn.Module`의 하위 클래스로 정의하고, `__init__`에서 신경망 계층을 초기화한다.  \n",
    "`nn.Module`을 상속받은 모든 클래스는 `forward`메서드에 입력 데이터에 대한 연산을 구현한다."
   ]
  },
  {
   "cell_type": "code",
   "execution_count": 29,
   "metadata": {},
   "outputs": [],
   "source": [
    "class NeuralNetwork(nn.Module):\n",
    "  def __init__(self):\n",
    "    super().__init__()\n",
    "    self.flatten = nn.Flatten()\n",
    "    self.linear_relu_stack = nn.Sequential(\n",
    "      nn.Linear(28*28, 512),\n",
    "      nn.ReLU(),\n",
    "      nn.Linear(512, 512),\n",
    "      nn.ReLU(),\n",
    "      nn.Linear(512,10),\n",
    "    )\n",
    "\n",
    "  def forward(self, x):\n",
    "    x = self.flatten(x)\n",
    "    logits = self.linear_relu_stack(x)\n",
    "    return logits"
   ]
  },
  {
   "cell_type": "code",
   "execution_count": 30,
   "metadata": {},
   "outputs": [
    {
     "name": "stdout",
     "output_type": "stream",
     "text": [
      "NeuralNetwork(\n",
      "  (flatten): Flatten(start_dim=1, end_dim=-1)\n",
      "  (linear_relu_stack): Sequential(\n",
      "    (0): Linear(in_features=784, out_features=512, bias=True)\n",
      "    (1): ReLU()\n",
      "    (2): Linear(in_features=512, out_features=512, bias=True)\n",
      "    (3): ReLU()\n",
      "    (4): Linear(in_features=512, out_features=10, bias=True)\n",
      "  )\n",
      ")\n"
     ]
    }
   ],
   "source": [
    "model = NeuralNetwork().to(device)\n",
    "print(model)"
   ]
  },
  {
   "cell_type": "markdown",
   "metadata": {},
   "source": [
    "모델을 사용하기 위해 입력 데이터를 전달한다. (`model.forward()`를 직접 호출 금지!)  \n",
    "\n",
    "2차원 텐서를 반환한다. dim=0은 각 class에 대한 raw 예측값 10개가, dim=1에는 각 출력의 개별 값이 해당한다.  \n",
    "원시 예측값을 `nn.Softmax`모듈의 인스턴스에 통과시켜 예측 확률을 얻는다."
   ]
  },
  {
   "cell_type": "code",
   "execution_count": 31,
   "metadata": {},
   "outputs": [
    {
     "name": "stdout",
     "output_type": "stream",
     "text": [
      "Predicted class: tensor([4], device='mps:0')\n"
     ]
    }
   ],
   "source": [
    "X = torch.rand(1, 28, 28, device = device)\n",
    "logits = model(X)\n",
    "pred_probab = nn.Softmax(dim=1)(logits)\n",
    "y_pred = pred_probab.argmax(1)\n",
    "print(f\"Predicted class: {y_pred}\")"
   ]
  },
  {
   "cell_type": "markdown",
   "metadata": {},
   "source": [
    "### 4-3. Model Layers"
   ]
  },
  {
   "cell_type": "code",
   "execution_count": 32,
   "metadata": {},
   "outputs": [
    {
     "name": "stdout",
     "output_type": "stream",
     "text": [
      "torch.Size([3, 28, 28])\n"
     ]
    }
   ],
   "source": [
    "input_image = torch.rand(3,28,28)\n",
    "print(input_image.size())"
   ]
  },
  {
   "cell_type": "markdown",
   "metadata": {},
   "source": [
    "#### **nn.Flatten**"
   ]
  },
  {
   "cell_type": "markdown",
   "metadata": {},
   "source": [
    "각 28x28의 2d image를 784 픽셀 값을 갖는 연속된 배열로 변환한다.  \n",
    "(dim=0의 minibatch 차원은 유지)"
   ]
  },
  {
   "cell_type": "code",
   "execution_count": 33,
   "metadata": {},
   "outputs": [
    {
     "name": "stdout",
     "output_type": "stream",
     "text": [
      "torch.Size([3, 784])\n"
     ]
    }
   ],
   "source": [
    "flatten = nn.Flatten()\n",
    "flat_image = flatten(input_image)\n",
    "print(flat_image.size())"
   ]
  },
  {
   "cell_type": "markdown",
   "metadata": {},
   "source": [
    "#### nn.Linear"
   ]
  },
  {
   "cell_type": "markdown",
   "metadata": {},
   "source": [
    "저장된 weight와 bias를 사용, linear transformation을 적용하는 모듈이다."
   ]
  },
  {
   "cell_type": "code",
   "execution_count": 34,
   "metadata": {},
   "outputs": [
    {
     "name": "stdout",
     "output_type": "stream",
     "text": [
      "torch.Size([3, 20])\n"
     ]
    }
   ],
   "source": [
    "layer1 = nn.Linear(in_features=28*28, out_features=20)\n",
    "hidden1 = layer1(flat_image)\n",
    "print(hidden1.size())"
   ]
  },
  {
   "cell_type": "markdown",
   "metadata": {},
   "source": [
    "#### nn.ReLU()"
   ]
  },
  {
   "cell_type": "markdown",
   "metadata": {},
   "source": [
    "비선형 활성화(activation)은 모델의 입력과 출력 사이에 복잡한 관계(mapping)을 만든다."
   ]
  },
  {
   "cell_type": "code",
   "execution_count": 35,
   "metadata": {},
   "outputs": [
    {
     "name": "stdout",
     "output_type": "stream",
     "text": [
      "Before ReLU: tensor([[-0.3901, -0.2389,  0.6727, -0.3194, -0.0923,  0.5681, -0.2696,  0.4318,\n",
      "         -0.5285,  0.2241,  0.0937,  0.1581, -0.1288, -0.6696, -0.1783,  0.3399,\n",
      "          0.5657, -0.1515,  0.1272,  0.4814],\n",
      "        [-0.2644, -0.1849,  0.2582, -0.3479,  0.2606,  0.5526, -0.4986,  0.1423,\n",
      "         -0.5990,  0.2083,  0.1635,  0.2912, -0.2009, -0.4093,  0.0680,  0.2558,\n",
      "          0.2149, -0.1400, -0.1217,  0.1305],\n",
      "        [-0.3114, -0.0691,  0.5407, -0.2211, -0.0402,  0.4363, -0.3798,  0.2308,\n",
      "         -0.5657, -0.0215,  0.4165,  0.1139, -0.1962, -0.4698, -0.1555,  0.2599,\n",
      "          0.1547, -0.5283,  0.0491,  0.3362]], grad_fn=<AddmmBackward0>)\n",
      "\n",
      "\n",
      "After ReLU: tensor([[0.0000, 0.0000, 0.6727, 0.0000, 0.0000, 0.5681, 0.0000, 0.4318, 0.0000,\n",
      "         0.2241, 0.0937, 0.1581, 0.0000, 0.0000, 0.0000, 0.3399, 0.5657, 0.0000,\n",
      "         0.1272, 0.4814],\n",
      "        [0.0000, 0.0000, 0.2582, 0.0000, 0.2606, 0.5526, 0.0000, 0.1423, 0.0000,\n",
      "         0.2083, 0.1635, 0.2912, 0.0000, 0.0000, 0.0680, 0.2558, 0.2149, 0.0000,\n",
      "         0.0000, 0.1305],\n",
      "        [0.0000, 0.0000, 0.5407, 0.0000, 0.0000, 0.4363, 0.0000, 0.2308, 0.0000,\n",
      "         0.0000, 0.4165, 0.1139, 0.0000, 0.0000, 0.0000, 0.2599, 0.1547, 0.0000,\n",
      "         0.0491, 0.3362]], grad_fn=<ReluBackward0>)\n"
     ]
    }
   ],
   "source": [
    "print(f\"Before ReLU: {hidden1}\\n\\n\")\n",
    "hidden1 = nn.ReLU()(hidden1)\n",
    "print(f\"After ReLU: {hidden1}\")"
   ]
  },
  {
   "cell_type": "markdown",
   "metadata": {},
   "source": [
    "#### nn.Sequential"
   ]
  },
  {
   "cell_type": "markdown",
   "metadata": {},
   "source": [
    "순서를 갖는 모듈의 컨테이너이다."
   ]
  },
  {
   "cell_type": "code",
   "execution_count": 36,
   "metadata": {},
   "outputs": [],
   "source": [
    "seq_modules = nn.Sequential(\n",
    "  flatten,\n",
    "  layer1,\n",
    "  nn.ReLU(),\n",
    "  nn.Linear(20,10)\n",
    ")\n",
    "input_image = torch.rand(3,28,28)\n",
    "logits = seq_modules(input_image)"
   ]
  },
  {
   "cell_type": "markdown",
   "metadata": {},
   "source": [
    "#### nn.Softmax"
   ]
  },
  {
   "cell_type": "markdown",
   "metadata": {},
   "source": [
    "`dim`매개변수는 값의 합이 1이 되는 차원을 나타낸다."
   ]
  },
  {
   "cell_type": "code",
   "execution_count": 37,
   "metadata": {},
   "outputs": [],
   "source": [
    "softmax = nn.Softmax(dim=1)\n",
    "pred_probab = softmax(logits)"
   ]
  },
  {
   "cell_type": "markdown",
   "metadata": {},
   "source": [
    "### 4-4. Model Parameters"
   ]
  },
  {
   "cell_type": "markdown",
   "metadata": {},
   "source": [
    "신경망 내부 많은 계층은 매개변수화(parameterize)된다. `nn.Module`을 상속하면 모델 객체 내부의 모든 필드들이 자동으로 추적(track)되며, 모델의 `parameters()` 및 `named_parameters()` 메서드로 모든 매개변수에 접근 가능하게 된다.  "
   ]
  },
  {
   "cell_type": "code",
   "execution_count": 38,
   "metadata": {},
   "outputs": [
    {
     "name": "stdout",
     "output_type": "stream",
     "text": [
      "Model structure: NeuralNetwork(\n",
      "  (flatten): Flatten(start_dim=1, end_dim=-1)\n",
      "  (linear_relu_stack): Sequential(\n",
      "    (0): Linear(in_features=784, out_features=512, bias=True)\n",
      "    (1): ReLU()\n",
      "    (2): Linear(in_features=512, out_features=512, bias=True)\n",
      "    (3): ReLU()\n",
      "    (4): Linear(in_features=512, out_features=10, bias=True)\n",
      "  )\n",
      ")\n",
      "\n",
      "\n"
     ]
    },
    {
     "name": "stderr",
     "output_type": "stream",
     "text": [
      "/Users/qwerty1029/opt/anaconda3/envs/virtual/lib/python3.10/site-packages/torch/_tensor_str.py:115: UserWarning: MPS: nonzero op is supported natively starting from macOS 13.0. Falling back on CPU. This may have performance implications. (Triggered internally at /private/var/folders/nz/j6p8yfhx1mv_0grj5xl4650h0000gp/T/abs_1aidzjezue/croot/pytorch_1687856425340/work/aten/src/ATen/native/mps/operations/Indexing.mm:218.)\n",
      "  nonzero_finite_vals = torch.masked_select(\n"
     ]
    },
    {
     "name": "stdout",
     "output_type": "stream",
     "text": [
      "Layer: linear_relu_stack.0.weight | Size: torch.Size([512, 784]) | Values : tensor([[ 0.0159,  0.0041, -0.0296,  ..., -0.0077,  0.0121,  0.0101],\n",
      "        [-0.0357, -0.0169,  0.0094,  ...,  0.0355, -0.0086,  0.0120]],\n",
      "       device='mps:0', grad_fn=<SliceBackward0>) \n",
      "\n",
      "Layer: linear_relu_stack.0.bias | Size: torch.Size([512]) | Values : tensor([ 0.0227, -0.0348], device='mps:0', grad_fn=<SliceBackward0>) \n",
      "\n",
      "Layer: linear_relu_stack.2.weight | Size: torch.Size([512, 512]) | Values : tensor([[-0.0305, -0.0425, -0.0281,  ..., -0.0383, -0.0439,  0.0430],\n",
      "        [-0.0122,  0.0280, -0.0046,  ..., -0.0109, -0.0264, -0.0163]],\n",
      "       device='mps:0', grad_fn=<SliceBackward0>) \n",
      "\n",
      "Layer: linear_relu_stack.2.bias | Size: torch.Size([512]) | Values : tensor([-0.0260, -0.0441], device='mps:0', grad_fn=<SliceBackward0>) \n",
      "\n",
      "Layer: linear_relu_stack.4.weight | Size: torch.Size([10, 512]) | Values : tensor([[ 0.0123,  0.0416, -0.0155,  ..., -0.0299,  0.0138,  0.0127],\n",
      "        [-0.0004,  0.0439, -0.0022,  ..., -0.0269,  0.0127,  0.0215]],\n",
      "       device='mps:0', grad_fn=<SliceBackward0>) \n",
      "\n",
      "Layer: linear_relu_stack.4.bias | Size: torch.Size([10]) | Values : tensor([-0.0307,  0.0146], device='mps:0', grad_fn=<SliceBackward0>) \n",
      "\n"
     ]
    }
   ],
   "source": [
    "print(f\"Model structure: {model}\\n\\n\")\n",
    "\n",
    "for name, param in model.named_parameters():\n",
    "  print(f\"Layer: {name} | Size: {param.size()} | Values : {param[:2]} \\n\")"
   ]
  },
  {
   "cell_type": "markdown",
   "metadata": {},
   "source": [
    "## 5. Autograd"
   ]
  },
  {
   "cell_type": "code",
   "execution_count": 40,
   "metadata": {},
   "outputs": [],
   "source": [
    "import torch\n",
    "\n",
    "x = torch.ones(5) # input tensor\n",
    "y = torch.zeros(3) # expected output\n",
    "w = torch.randn(5, 3, requires_grad = True)\n",
    "b = torch.randn(3, requires_grad = True)\n",
    "z = torch.matmul(x, w) + b\n",
    "loss = torch.nn.functional.binary_cross_entropy_with_logits(z, y)"
   ]
  },
  {
   "cell_type": "markdown",
   "metadata": {},
   "source": [
    "### 5-1. Tensors, Functions and Computational graph"
   ]
  },
  {
   "cell_type": "markdown",
   "metadata": {},
   "source": [
    "`w`와 `b`는 최적화를 해야 하는 매개변수이다. 따라서 이러한 변수에 대해 loss function의 gradient를 계산할 수 있어야 하므로, `requires_grad` 속성을 적용한다.  \n",
    "\n",
    "연산 그래프를 구성하기 위해 텐서에 적용하는 함수는 `Function` 클래스의 객체이다. 이 객체는 순전파 방향으로 함수를 계산하는 방법과, 역전파 단계에서 도함수(derivative)를 계산하는 방법을 내장한다. 역전파 함수에 대한 참조는 텐서의 `grad_fn`속성에 저장된다."
   ]
  },
  {
   "cell_type": "code",
   "execution_count": 41,
   "metadata": {},
   "outputs": [
    {
     "name": "stdout",
     "output_type": "stream",
     "text": [
      "Gradient function for z = <AddBackward0 object at 0x28fb9c880>\n",
      "Gradient function for loss = <BinaryCrossEntropyWithLogitsBackward0 object at 0x28fb9ee00>\n"
     ]
    }
   ],
   "source": [
    "print(f\"Gradient function for z = {z.grad_fn}\")\n",
    "print(f\"Gradient function for loss = {loss.grad_fn}\")"
   ]
  },
  {
   "cell_type": "markdown",
   "metadata": {},
   "source": [
    "### 5-2. Computing Gradients"
   ]
  },
  {
   "cell_type": "markdown",
   "metadata": {},
   "source": [
    "최적화를 위해 매개변수에 대한 손실함수의 도함수를 계산해야 한다.  \n",
    "즉, ${\\partial loss} \\over {\\partial w}$ 와 ${\\partial loss} \\over {\\partial b}$ 가 필요하다.  \n",
    "계산을 위해 `loss.backward()`를 호출한 후 `w.grad`와 `b.grad`에서 값을 가져온다."
   ]
  },
  {
   "cell_type": "code",
   "execution_count": 42,
   "metadata": {},
   "outputs": [
    {
     "name": "stdout",
     "output_type": "stream",
     "text": [
      "tensor([[0.0340, 0.2006, 0.2755],\n",
      "        [0.0340, 0.2006, 0.2755],\n",
      "        [0.0340, 0.2006, 0.2755],\n",
      "        [0.0340, 0.2006, 0.2755],\n",
      "        [0.0340, 0.2006, 0.2755]])\n",
      "tensor([0.0340, 0.2006, 0.2755])\n"
     ]
    }
   ],
   "source": [
    "loss.backward()\n",
    "print(w.grad)\n",
    "print(b.grad)"
   ]
  },
  {
   "cell_type": "markdown",
   "metadata": {},
   "source": [
    "### 5-3. Disabling Gradient Tracking"
   ]
  },
  {
   "cell_type": "markdown",
   "metadata": {},
   "source": [
    "학습한 뒤 입력 데이터를 적용하기만 하는 경우와 같이 순전파 연산만 필요한 경우, 변화도 추적이 필요 없다. 연산 코드를 `torch.no_grad()` 블럭으로 둘러싸 연산 추적을 멈출 수 있다."
   ]
  },
  {
   "cell_type": "code",
   "execution_count": 43,
   "metadata": {},
   "outputs": [
    {
     "name": "stdout",
     "output_type": "stream",
     "text": [
      "True\n",
      "False\n"
     ]
    }
   ],
   "source": [
    "z = torch.matmul(x, w)+b\n",
    "print(z.requires_grad)\n",
    "\n",
    "with torch.no_grad():\n",
    "  z = torch.matmul(x, w)+b\n",
    "print(z.requires_grad)"
   ]
  },
  {
   "cell_type": "markdown",
   "metadata": {},
   "source": [
    "텐서에 `detach()` 메서드를 사용하는 방법도 있다."
   ]
  },
  {
   "cell_type": "code",
   "execution_count": 46,
   "metadata": {},
   "outputs": [
    {
     "ename": "AttributeError",
     "evalue": "'Tensor' object has no attribute 'reqiures_grad'",
     "output_type": "error",
     "traceback": [
      "\u001b[0;31m---------------------------------------------------------------------------\u001b[0m",
      "\u001b[0;31mAttributeError\u001b[0m                            Traceback (most recent call last)",
      "Cell \u001b[0;32mIn[46], line 3\u001b[0m\n\u001b[1;32m      1\u001b[0m z \u001b[38;5;241m=\u001b[39m torch\u001b[38;5;241m.\u001b[39mmatmul(x, w)\u001b[38;5;241m+\u001b[39mb\n\u001b[1;32m      2\u001b[0m z_det \u001b[38;5;241m=\u001b[39m z\u001b[38;5;241m.\u001b[39mdetach()\n\u001b[0;32m----> 3\u001b[0m \u001b[38;5;28mprint\u001b[39m(\u001b[43mz_det\u001b[49m\u001b[38;5;241;43m.\u001b[39;49m\u001b[43mreqiures_grad\u001b[49m)\n",
      "\u001b[0;31mAttributeError\u001b[0m: 'Tensor' object has no attribute 'reqiures_grad'"
     ]
    }
   ],
   "source": [
    "z = torch.matmul(x, w)+b\n",
    "z_det = z.detach()\n",
    "print(z_det.reqiures_grad)"
   ]
  },
  {
   "cell_type": "markdown",
   "metadata": {},
   "source": [
    "## 6. Optimizing Model Parameters"
   ]
  },
  {
   "cell_type": "markdown",
   "metadata": {},
   "source": [
    "### 6-1. Prerequisite Code"
   ]
  },
  {
   "cell_type": "code",
   "execution_count": 47,
   "metadata": {},
   "outputs": [],
   "source": [
    "import torch\n",
    "from torch import nn\n",
    "from torch.utils.data import DataLoader\n",
    "from torchvision import datasets\n",
    "from torchvision.transforms import ToTensor\n",
    "\n",
    "training_data = datasets.FashionMNIST(\n",
    "    root=\"data\",\n",
    "    train=True,\n",
    "    download=True,\n",
    "    transform=ToTensor()\n",
    ")\n",
    "\n",
    "test_data = datasets.FashionMNIST(\n",
    "    root=\"data\",\n",
    "    train=False,\n",
    "    download=True,\n",
    "    transform=ToTensor()\n",
    ")\n",
    "\n",
    "train_dataloader = DataLoader(training_data, batch_size=64)\n",
    "test_dataloader = DataLoader(test_data, batch_size=64)\n",
    "\n",
    "\n",
    "class NeuralNetwork(nn.Module):\n",
    "    def __init__(self):\n",
    "        super(NeuralNetwork, self).__init__()\n",
    "        self.flatten = nn.Flatten()\n",
    "        self.linear_relu_stack = nn.Sequential(\n",
    "            nn.Linear(28*28, 512),\n",
    "            nn.ReLU(),\n",
    "            nn.Linear(512, 512),\n",
    "            nn.ReLU(),\n",
    "            nn.Linear(512, 10),\n",
    "        )\n",
    "\n",
    "    def forward(self, x):\n",
    "        x = self.flatten(x)\n",
    "        logits = self.linear_relu_stack(x)\n",
    "        return logits\n",
    "\n",
    "\n",
    "model = NeuralNetwork()"
   ]
  },
  {
   "cell_type": "markdown",
   "metadata": {},
   "source": [
    "### 6-2. Hyperparameter"
   ]
  },
  {
   "cell_type": "markdown",
   "metadata": {},
   "source": [
    "* **Number of Epochs** : 데이터셋을 반복하는 횟수\n",
    "* **Batch Size** : 매개변수 갱신 전 신경망을 통해 전파된 데이터 샘플의 수\n",
    "* **Learning Rate** : 각 배치/에폭에서 모델의 매개변수를 조절하는 비율.($\\alpha$)"
   ]
  },
  {
   "cell_type": "code",
   "execution_count": 48,
   "metadata": {},
   "outputs": [],
   "source": [
    "learning_rate = 1e-3\n",
    "batch_size = 64\n",
    "epoch = 5"
   ]
  },
  {
   "cell_type": "markdown",
   "metadata": {},
   "source": [
    "### 6-3. Optimization Loop"
   ]
  },
  {
   "cell_type": "markdown",
   "metadata": {},
   "source": [
    "최적화 단계의 각 반복(iteration)을 **에폭(Epoch)**이라 부른다.  \n",
    "\n",
    "하나의 에폭은 두 부분으로 구성된다.\n",
    "* **The Train Loop** : 학습용 데이터셋을 반복하고 최적의 매개변수로 수렴\n",
    "* **The Validation/Test Loop** : 모델 성능이 개선되는지를 확인하기 위해 테스트 데이터셋을 반복"
   ]
  },
  {
   "cell_type": "markdown",
   "metadata": {},
   "source": [
    "* **Loss Function**"
   ]
  },
  {
   "cell_type": "code",
   "execution_count": 49,
   "metadata": {},
   "outputs": [],
   "source": [
    "loss_fn = nn.CrossEntropyLoss()"
   ]
  },
  {
   "cell_type": "markdown",
   "metadata": {},
   "source": [
    "* **Optimizer**"
   ]
  },
  {
   "cell_type": "code",
   "execution_count": 50,
   "metadata": {},
   "outputs": [],
   "source": [
    "optimizer = torch.optim.SGD(model.parameters(), lr=learning_rate)"
   ]
  },
  {
   "cell_type": "markdown",
   "metadata": {},
   "source": [
    "Train Loop에서 최적화는 3단계로 이루어진다.  \n",
    "* `optimizer.zero_grad()`를 호출하여 gradient를 재설정한다. 기본적으로 gradient는 더해지기(add up) 때문에, 중복을 막기위해 명시적으로 0으로 설정.\n",
    "* `loss.backwards()`를. 호출하여 prediction loss를 역전파.\n",
    "* 변화도를 계산한 뒤 `optimizer.step()`을 호출하여 역전파 단계에서 수집된 변화도로 매개변수를 조정."
   ]
  },
  {
   "cell_type": "markdown",
   "metadata": {},
   "source": [
    "### 6-4. Full Implementation"
   ]
  },
  {
   "cell_type": "code",
   "execution_count": 51,
   "metadata": {},
   "outputs": [],
   "source": [
    "def train_loop(dataloader, model, loss_fn, optimizer):\n",
    "  size = len(dataloader.dataset)\n",
    "  for batch, (X, y) in enumerate(dataloader):\n",
    "    pred = model(X)\n",
    "    loss = loss_fn(pred, y)\n",
    "\n",
    "    optimizer.zero_grad()\n",
    "    loss.backward()\n",
    "    optimizer.step()\n",
    "\n",
    "    if batch % 100 == 0:\n",
    "      loss, current = loss.item(), (batch + 1) * len(X)\n",
    "      print(f\"loss: {loss:>7f} [{current:>5d}/{size:>5d}]\")\n",
    "\n",
    "def test_loop(dataloader, model, loss_fn):\n",
    "  size = len(dataloader.dataset)\n",
    "  num_batches = len(dataloader)\n",
    "  test_loss, correct = 0,0\n",
    "\n",
    "  with torch.no_grad():\n",
    "    for X, y in dataloader:\n",
    "      pred = model(X)\n",
    "      test_loss += loss_fn(pred, y).item()\n",
    "      correct += (pred.argmax(1) == y).type(torch.float).sum().item()\n",
    "\n",
    "  test_loss /= num_batches\n",
    "  correct /= size\n",
    "  print(f\"Test Error: \\n Accuracy: {(100*correct):>0.1f}%, Avg loss: {test_loss:>8f} \\n\")"
   ]
  },
  {
   "cell_type": "code",
   "execution_count": 52,
   "metadata": {},
   "outputs": [
    {
     "name": "stdout",
     "output_type": "stream",
     "text": [
      "Epoch 1\n",
      "-------------------------------\n",
      "loss: 2.306594 [   64/60000]\n",
      "loss: 2.291153 [ 6464/60000]\n",
      "loss: 2.272516 [12864/60000]\n",
      "loss: 2.259020 [19264/60000]\n",
      "loss: 2.253352 [25664/60000]\n",
      "loss: 2.223792 [32064/60000]\n",
      "loss: 2.223578 [38464/60000]\n",
      "loss: 2.191885 [44864/60000]\n",
      "loss: 2.183599 [51264/60000]\n",
      "loss: 2.154202 [57664/60000]\n",
      "Test Error: \n",
      " Accuracy: 50.0%, Avg loss: 2.146678 \n",
      "\n",
      "Epoch 2\n",
      "-------------------------------\n",
      "loss: 2.154269 [   64/60000]\n",
      "loss: 2.149766 [ 6464/60000]\n",
      "loss: 2.083484 [12864/60000]\n",
      "loss: 2.093733 [19264/60000]\n",
      "loss: 2.059607 [25664/60000]\n",
      "loss: 1.991294 [32064/60000]\n",
      "loss: 2.017833 [38464/60000]\n",
      "loss: 1.938146 [44864/60000]\n",
      "loss: 1.938174 [51264/60000]\n",
      "loss: 1.868316 [57664/60000]\n",
      "Test Error: \n",
      " Accuracy: 57.5%, Avg loss: 1.865661 \n",
      "\n",
      "Epoch 3\n",
      "-------------------------------\n",
      "loss: 1.895043 [   64/60000]\n",
      "loss: 1.875481 [ 6464/60000]\n",
      "loss: 1.741712 [12864/60000]\n",
      "loss: 1.780182 [19264/60000]\n",
      "loss: 1.698347 [25664/60000]\n",
      "loss: 1.635119 [32064/60000]\n",
      "loss: 1.667984 [38464/60000]\n",
      "loss: 1.567656 [44864/60000]\n",
      "loss: 1.588190 [51264/60000]\n",
      "loss: 1.491200 [57664/60000]\n",
      "Test Error: \n",
      " Accuracy: 61.8%, Avg loss: 1.506013 \n",
      "\n",
      "Epoch 4\n",
      "-------------------------------\n",
      "loss: 1.565526 [   64/60000]\n",
      "loss: 1.543528 [ 6464/60000]\n",
      "loss: 1.382750 [12864/60000]\n",
      "loss: 1.453953 [19264/60000]\n",
      "loss: 1.357950 [25664/60000]\n",
      "loss: 1.338338 [32064/60000]\n",
      "loss: 1.371874 [38464/60000]\n",
      "loss: 1.292479 [44864/60000]\n",
      "loss: 1.318643 [51264/60000]\n",
      "loss: 1.231216 [57664/60000]\n",
      "Test Error: \n",
      " Accuracy: 63.7%, Avg loss: 1.252204 \n",
      "\n",
      "Epoch 5\n",
      "-------------------------------\n",
      "loss: 1.320145 [   64/60000]\n",
      "loss: 1.311859 [ 6464/60000]\n",
      "loss: 1.141349 [12864/60000]\n",
      "loss: 1.243062 [19264/60000]\n",
      "loss: 1.133384 [25664/60000]\n",
      "loss: 1.146239 [32064/60000]\n",
      "loss: 1.185395 [38464/60000]\n",
      "loss: 1.118595 [44864/60000]\n",
      "loss: 1.146026 [51264/60000]\n",
      "loss: 1.073168 [57664/60000]\n",
      "Test Error: \n",
      " Accuracy: 65.1%, Avg loss: 1.090586 \n",
      "\n",
      "Epoch 6\n",
      "-------------------------------\n",
      "loss: 1.154259 [   64/60000]\n",
      "loss: 1.162041 [ 6464/60000]\n",
      "loss: 0.978208 [12864/60000]\n",
      "loss: 1.106378 [19264/60000]\n",
      "loss: 0.991221 [25664/60000]\n",
      "loss: 1.013857 [32064/60000]\n",
      "loss: 1.064300 [38464/60000]\n",
      "loss: 1.003646 [44864/60000]\n",
      "loss: 1.030402 [51264/60000]\n",
      "loss: 0.970888 [57664/60000]\n",
      "Test Error: \n",
      " Accuracy: 66.0%, Avg loss: 0.983662 \n",
      "\n",
      "Epoch 7\n",
      "-------------------------------\n",
      "loss: 1.036828 [   64/60000]\n",
      "loss: 1.062289 [ 6464/60000]\n",
      "loss: 0.864220 [12864/60000]\n",
      "loss: 1.013938 [19264/60000]\n",
      "loss: 0.900540 [25664/60000]\n",
      "loss: 0.919771 [32064/60000]\n",
      "loss: 0.982832 [38464/60000]\n",
      "loss: 0.927013 [44864/60000]\n",
      "loss: 0.950020 [51264/60000]\n",
      "loss: 0.902065 [57664/60000]\n",
      "Test Error: \n",
      " Accuracy: 67.1%, Avg loss: 0.910552 \n",
      "\n",
      "Epoch 8\n",
      "-------------------------------\n",
      "loss: 0.950388 [   64/60000]\n",
      "loss: 0.993119 [ 6464/60000]\n",
      "loss: 0.782652 [12864/60000]\n",
      "loss: 0.949390 [19264/60000]\n",
      "loss: 0.840722 [25664/60000]\n",
      "loss: 0.851536 [32064/60000]\n",
      "loss: 0.925317 [38464/60000]\n",
      "loss: 0.875044 [44864/60000]\n",
      "loss: 0.892453 [51264/60000]\n",
      "loss: 0.853073 [57664/60000]\n",
      "Test Error: \n",
      " Accuracy: 68.4%, Avg loss: 0.858464 \n",
      "\n",
      "Epoch 9\n",
      "-------------------------------\n",
      "loss: 0.884667 [   64/60000]\n",
      "loss: 0.942478 [ 6464/60000]\n",
      "loss: 0.722305 [12864/60000]\n",
      "loss: 0.902382 [19264/60000]\n",
      "loss: 0.798574 [25664/60000]\n",
      "loss: 0.800791 [32064/60000]\n",
      "loss: 0.882203 [38464/60000]\n",
      "loss: 0.838701 [44864/60000]\n",
      "loss: 0.849648 [51264/60000]\n",
      "loss: 0.816218 [57664/60000]\n",
      "Test Error: \n",
      " Accuracy: 69.7%, Avg loss: 0.819563 \n",
      "\n",
      "Epoch 10\n",
      "-------------------------------\n",
      "loss: 0.832594 [   64/60000]\n",
      "loss: 0.902894 [ 6464/60000]\n",
      "loss: 0.675706 [12864/60000]\n",
      "loss: 0.866794 [19264/60000]\n",
      "loss: 0.766855 [25664/60000]\n",
      "loss: 0.762202 [32064/60000]\n",
      "loss: 0.848176 [38464/60000]\n",
      "loss: 0.811856 [44864/60000]\n",
      "loss: 0.816466 [51264/60000]\n",
      "loss: 0.787069 [57664/60000]\n",
      "Test Error: \n",
      " Accuracy: 70.7%, Avg loss: 0.788944 \n",
      "\n",
      "Epoch 11\n",
      "-------------------------------\n",
      "loss: 0.789556 [   64/60000]\n",
      "loss: 0.869983 [ 6464/60000]\n",
      "loss: 0.638463 [12864/60000]\n",
      "loss: 0.838927 [19264/60000]\n",
      "loss: 0.741273 [25664/60000]\n",
      "loss: 0.731942 [32064/60000]\n",
      "loss: 0.819837 [38464/60000]\n",
      "loss: 0.790730 [44864/60000]\n",
      "loss: 0.789935 [51264/60000]\n",
      "loss: 0.762945 [57664/60000]\n",
      "Test Error: \n",
      " Accuracy: 72.0%, Avg loss: 0.763701 \n",
      "\n",
      "Epoch 12\n",
      "-------------------------------\n",
      "loss: 0.753044 [   64/60000]\n",
      "loss: 0.841428 [ 6464/60000]\n",
      "loss: 0.607494 [12864/60000]\n",
      "loss: 0.816093 [19264/60000]\n",
      "loss: 0.720179 [25664/60000]\n",
      "loss: 0.707546 [32064/60000]\n",
      "loss: 0.795089 [38464/60000]\n",
      "loss: 0.773278 [44864/60000]\n",
      "loss: 0.768037 [51264/60000]\n",
      "loss: 0.742385 [57664/60000]\n",
      "Test Error: \n",
      " Accuracy: 73.0%, Avg loss: 0.742036 \n",
      "\n",
      "Epoch 13\n",
      "-------------------------------\n",
      "loss: 0.721216 [   64/60000]\n",
      "loss: 0.815842 [ 6464/60000]\n",
      "loss: 0.581130 [12864/60000]\n",
      "loss: 0.796890 [19264/60000]\n",
      "loss: 0.702018 [25664/60000]\n",
      "loss: 0.687390 [32064/60000]\n",
      "loss: 0.772729 [38464/60000]\n",
      "loss: 0.758184 [44864/60000]\n",
      "loss: 0.749285 [51264/60000]\n",
      "loss: 0.724317 [57664/60000]\n",
      "Test Error: \n",
      " Accuracy: 73.9%, Avg loss: 0.722881 \n",
      "\n",
      "Epoch 14\n",
      "-------------------------------\n",
      "loss: 0.693002 [   64/60000]\n",
      "loss: 0.792445 [ 6464/60000]\n",
      "loss: 0.558234 [12864/60000]\n",
      "loss: 0.780098 [19264/60000]\n",
      "loss: 0.686092 [25664/60000]\n",
      "loss: 0.670283 [32064/60000]\n",
      "loss: 0.752052 [38464/60000]\n",
      "loss: 0.744862 [44864/60000]\n",
      "loss: 0.732794 [51264/60000]\n",
      "loss: 0.707911 [57664/60000]\n",
      "Test Error: \n",
      " Accuracy: 74.6%, Avg loss: 0.705568 \n",
      "\n",
      "Epoch 15\n",
      "-------------------------------\n",
      "loss: 0.667650 [   64/60000]\n",
      "loss: 0.770838 [ 6464/60000]\n",
      "loss: 0.538083 [12864/60000]\n",
      "loss: 0.765098 [19264/60000]\n",
      "loss: 0.671819 [25664/60000]\n",
      "loss: 0.655671 [32064/60000]\n",
      "loss: 0.732781 [38464/60000]\n",
      "loss: 0.732709 [44864/60000]\n",
      "loss: 0.718244 [51264/60000]\n",
      "loss: 0.692904 [57664/60000]\n",
      "Test Error: \n",
      " Accuracy: 75.3%, Avg loss: 0.689718 \n",
      "\n",
      "Epoch 16\n",
      "-------------------------------\n",
      "loss: 0.644772 [   64/60000]\n",
      "loss: 0.750801 [ 6464/60000]\n",
      "loss: 0.520169 [12864/60000]\n",
      "loss: 0.751483 [19264/60000]\n",
      "loss: 0.659188 [25664/60000]\n",
      "loss: 0.642935 [32064/60000]\n",
      "loss: 0.714806 [38464/60000]\n",
      "loss: 0.721686 [44864/60000]\n",
      "loss: 0.705301 [51264/60000]\n",
      "loss: 0.678977 [57664/60000]\n",
      "Test Error: \n",
      " Accuracy: 76.3%, Avg loss: 0.675120 \n",
      "\n",
      "Epoch 17\n",
      "-------------------------------\n",
      "loss: 0.624087 [   64/60000]\n",
      "loss: 0.732220 [ 6464/60000]\n",
      "loss: 0.504151 [12864/60000]\n",
      "loss: 0.739031 [19264/60000]\n",
      "loss: 0.647968 [25664/60000]\n",
      "loss: 0.631851 [32064/60000]\n",
      "loss: 0.698011 [38464/60000]\n",
      "loss: 0.711872 [44864/60000]\n",
      "loss: 0.693896 [51264/60000]\n",
      "loss: 0.666050 [57664/60000]\n",
      "Test Error: \n",
      " Accuracy: 76.9%, Avg loss: 0.661624 \n",
      "\n",
      "Epoch 18\n",
      "-------------------------------\n",
      "loss: 0.605225 [   64/60000]\n",
      "loss: 0.714869 [ 6464/60000]\n",
      "loss: 0.489774 [12864/60000]\n",
      "loss: 0.727493 [19264/60000]\n",
      "loss: 0.637899 [25664/60000]\n",
      "loss: 0.622051 [32064/60000]\n",
      "loss: 0.682227 [38464/60000]\n",
      "loss: 0.703083 [44864/60000]\n",
      "loss: 0.683870 [51264/60000]\n",
      "loss: 0.653866 [57664/60000]\n",
      "Test Error: \n",
      " Accuracy: 77.3%, Avg loss: 0.649112 \n",
      "\n",
      "Epoch 19\n",
      "-------------------------------\n",
      "loss: 0.587977 [   64/60000]\n",
      "loss: 0.698713 [ 6464/60000]\n",
      "loss: 0.476793 [12864/60000]\n",
      "loss: 0.716803 [19264/60000]\n",
      "loss: 0.628808 [25664/60000]\n",
      "loss: 0.613357 [32064/60000]\n",
      "loss: 0.667406 [38464/60000]\n",
      "loss: 0.695379 [44864/60000]\n",
      "loss: 0.675133 [51264/60000]\n",
      "loss: 0.642353 [57664/60000]\n",
      "Test Error: \n",
      " Accuracy: 77.8%, Avg loss: 0.637496 \n",
      "\n",
      "Epoch 20\n",
      "-------------------------------\n",
      "loss: 0.572185 [   64/60000]\n",
      "loss: 0.683679 [ 6464/60000]\n",
      "loss: 0.464958 [12864/60000]\n",
      "loss: 0.706828 [19264/60000]\n",
      "loss: 0.620606 [25664/60000]\n",
      "loss: 0.605615 [32064/60000]\n",
      "loss: 0.653500 [38464/60000]\n",
      "loss: 0.688652 [44864/60000]\n",
      "loss: 0.667538 [51264/60000]\n",
      "loss: 0.631351 [57664/60000]\n",
      "Test Error: \n",
      " Accuracy: 78.3%, Avg loss: 0.626717 \n",
      "\n",
      "Done!\n"
     ]
    }
   ],
   "source": [
    "loss_fn = nn.CrossEntropyLoss()\n",
    "optimizer = torch.optim.SGD(model.parameters(), lr=learning_rate)\n",
    "\n",
    "epochs = 20\n",
    "for i in range(epochs):\n",
    "  print(f\"Epoch {i+1}\\n-------------------------------\")\n",
    "  train_loop(train_dataloader, model, loss_fn, optimizer)\n",
    "  test_loop(test_dataloader, model, loss_fn)\n",
    "\n",
    "print(\"Done!\")"
   ]
  },
  {
   "cell_type": "markdown",
   "metadata": {},
   "source": [
    "## 7. Save and Load the Model"
   ]
  },
  {
   "cell_type": "code",
   "execution_count": 53,
   "metadata": {},
   "outputs": [],
   "source": [
    "import torch\n",
    "import torchvision.models as models"
   ]
  },
  {
   "cell_type": "markdown",
   "metadata": {},
   "source": [
    "### 7-1. Saving and Loading Model Weights"
   ]
  },
  {
   "cell_type": "markdown",
   "metadata": {},
   "source": [
    "* 모델 가중치 저장하기\n",
    "\n",
    "  PyTorch 모델은 학습한 매개변수를 `state_dict`라고 불리는 내부 상태 사전(internal state dictionary)에 저장한다. 이 상태 값들은 `torch.save` 메서드를 사용하여 저장(persist)할 수 있다."
   ]
  },
  {
   "cell_type": "code",
   "execution_count": 54,
   "metadata": {},
   "outputs": [
    {
     "name": "stderr",
     "output_type": "stream",
     "text": [
      "Downloading: \"https://download.pytorch.org/models/vgg16-397923af.pth\" to /Users/qwerty1029/.cache/torch/hub/checkpoints/vgg16-397923af.pth\n",
      "100%|██████████| 528M/528M [00:59<00:00, 9.29MB/s] \n"
     ]
    }
   ],
   "source": [
    "model = models.vgg16(weights='IMAGENET1K_V1')\n",
    "torch.save(model.state_dict(), 'model_weights.pth')"
   ]
  },
  {
   "cell_type": "markdown",
   "metadata": {},
   "source": [
    "* 모델 가중치 불러오기\n",
    "\n",
    "  먼저 동일한 모델의 인스턴스를 생성한 후, `load_state_dict()` 메서드를 사용하여 매개변수를 불러온다."
   ]
  },
  {
   "cell_type": "code",
   "execution_count": 55,
   "metadata": {},
   "outputs": [
    {
     "data": {
      "text/plain": [
       "VGG(\n",
       "  (features): Sequential(\n",
       "    (0): Conv2d(3, 64, kernel_size=(3, 3), stride=(1, 1), padding=(1, 1))\n",
       "    (1): ReLU(inplace=True)\n",
       "    (2): Conv2d(64, 64, kernel_size=(3, 3), stride=(1, 1), padding=(1, 1))\n",
       "    (3): ReLU(inplace=True)\n",
       "    (4): MaxPool2d(kernel_size=2, stride=2, padding=0, dilation=1, ceil_mode=False)\n",
       "    (5): Conv2d(64, 128, kernel_size=(3, 3), stride=(1, 1), padding=(1, 1))\n",
       "    (6): ReLU(inplace=True)\n",
       "    (7): Conv2d(128, 128, kernel_size=(3, 3), stride=(1, 1), padding=(1, 1))\n",
       "    (8): ReLU(inplace=True)\n",
       "    (9): MaxPool2d(kernel_size=2, stride=2, padding=0, dilation=1, ceil_mode=False)\n",
       "    (10): Conv2d(128, 256, kernel_size=(3, 3), stride=(1, 1), padding=(1, 1))\n",
       "    (11): ReLU(inplace=True)\n",
       "    (12): Conv2d(256, 256, kernel_size=(3, 3), stride=(1, 1), padding=(1, 1))\n",
       "    (13): ReLU(inplace=True)\n",
       "    (14): Conv2d(256, 256, kernel_size=(3, 3), stride=(1, 1), padding=(1, 1))\n",
       "    (15): ReLU(inplace=True)\n",
       "    (16): MaxPool2d(kernel_size=2, stride=2, padding=0, dilation=1, ceil_mode=False)\n",
       "    (17): Conv2d(256, 512, kernel_size=(3, 3), stride=(1, 1), padding=(1, 1))\n",
       "    (18): ReLU(inplace=True)\n",
       "    (19): Conv2d(512, 512, kernel_size=(3, 3), stride=(1, 1), padding=(1, 1))\n",
       "    (20): ReLU(inplace=True)\n",
       "    (21): Conv2d(512, 512, kernel_size=(3, 3), stride=(1, 1), padding=(1, 1))\n",
       "    (22): ReLU(inplace=True)\n",
       "    (23): MaxPool2d(kernel_size=2, stride=2, padding=0, dilation=1, ceil_mode=False)\n",
       "    (24): Conv2d(512, 512, kernel_size=(3, 3), stride=(1, 1), padding=(1, 1))\n",
       "    (25): ReLU(inplace=True)\n",
       "    (26): Conv2d(512, 512, kernel_size=(3, 3), stride=(1, 1), padding=(1, 1))\n",
       "    (27): ReLU(inplace=True)\n",
       "    (28): Conv2d(512, 512, kernel_size=(3, 3), stride=(1, 1), padding=(1, 1))\n",
       "    (29): ReLU(inplace=True)\n",
       "    (30): MaxPool2d(kernel_size=2, stride=2, padding=0, dilation=1, ceil_mode=False)\n",
       "  )\n",
       "  (avgpool): AdaptiveAvgPool2d(output_size=(7, 7))\n",
       "  (classifier): Sequential(\n",
       "    (0): Linear(in_features=25088, out_features=4096, bias=True)\n",
       "    (1): ReLU(inplace=True)\n",
       "    (2): Dropout(p=0.5, inplace=False)\n",
       "    (3): Linear(in_features=4096, out_features=4096, bias=True)\n",
       "    (4): ReLU(inplace=True)\n",
       "    (5): Dropout(p=0.5, inplace=False)\n",
       "    (6): Linear(in_features=4096, out_features=1000, bias=True)\n",
       "  )\n",
       ")"
      ]
     },
     "execution_count": 55,
     "metadata": {},
     "output_type": "execute_result"
    }
   ],
   "source": [
    "model = models.vgg16()\n",
    "model.load_state_dict(torch.load('model_weights.pth'))\n",
    "model.eval()"
   ]
  },
  {
   "cell_type": "markdown",
   "metadata": {},
   "source": [
    "* 주의사항\n",
    "\n",
    "  추론(interference)을 하기 전, 반드시 `model.eval()`메서드를 호출하여 dropout과 batch normalization을 evaluation mode로 설정해야 한다."
   ]
  },
  {
   "cell_type": "markdown",
   "metadata": {},
   "source": [
    "### 7-2. Saving and Loading Models with Shapes"
   ]
  },
  {
   "cell_type": "markdown",
   "metadata": {},
   "source": [
    "모델의 가중치를 불러올 떄, 신경망의 구조를 정의하기 위해 모델 클래스를 먼저 생성해야 했다.  \n",
    "\n",
    "이 클래스의 구조를 모델과 함께 저장하고 싶으면, `model.state_dict()`가 아닌 `model`을 저장 함수에 전달한다."
   ]
  },
  {
   "cell_type": "code",
   "execution_count": 56,
   "metadata": {},
   "outputs": [],
   "source": [
    "torch.save(model, 'model.pth')\n",
    "\n",
    "model = torch.load('model.pth')"
   ]
  }
 ],
 "metadata": {
  "kernelspec": {
   "display_name": "virtual",
   "language": "python",
   "name": "python3"
  },
  "language_info": {
   "codemirror_mode": {
    "name": "ipython",
    "version": 3
   },
   "file_extension": ".py",
   "mimetype": "text/x-python",
   "name": "python",
   "nbconvert_exporter": "python",
   "pygments_lexer": "ipython3",
   "version": "3.10.6"
  }
 },
 "nbformat": 4,
 "nbformat_minor": 2
}
