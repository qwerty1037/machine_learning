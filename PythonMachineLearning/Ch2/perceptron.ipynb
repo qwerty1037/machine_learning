{
 "cells": [
  {
   "cell_type": "markdown",
   "metadata": {},
   "source": [
    "### 2-1 : 퍼셉트론\n",
    "\n",
    "---\n",
    "\n",
    "#### 1. 인공 뉴런의 수학적 정의  \n",
    "\n",
    "두개의 클래스(양성: 1, 음성: -1)가 있는 이진 분류(Binary Classification) 작업을 하는 퍼셉트론\n",
    "\n",
    "최종 입력(new input) $z=w_1x_1+...+w_mx_m$   \n",
    "   \n",
    "$\\boldsymbol{w}=\\begin{bmatrix} w_1 \\\\ \\vdots \\\\ w_m \\end{bmatrix}, \\boldsymbol{x}=\\begin{bmatrix} x_1 \\\\ \\vdots \\\\ x_m \\end{bmatrix}$\n",
    "  \n",
    "특정 샘플 $\\boldsymbol{x}^{(i)}$의 최종 입력이 임계 값 $\\theta$ 보다 크면 클래스 1로 예측하고, 그렇지 않으면 클래스 -1로 예측한다\n",
    "\n",
    "결정 함수 $\\phi(\\cdot)$는 단위 계단 함수(Unit Step Function)의 변형이다.  \n",
    "\n",
    "$\\phi(z)=\\begin{cases} 1, & z\\ge\\theta \\\\ -1, & else \\end{cases}$\n",
    "  \n",
    "$w_0 = -\\theta$ 이고 $x_0 = 1$인 0번째 가중치를 정의하면,  \n",
    "$z = w_0x_0 + w_1x_1 + ... + w_mx_m = \\boldsymbol{w}^{T}\\boldsymbol{x}$  \n",
    "  \n",
    "$\\phi(z)=\\begin{cases} 1, & z \\ge 0 \\\\ -1, & else \\end{cases}$  \n",
    "\n",
    "절편(intercept) : $w_0 = -\\theta$\n",
    "  \n",
    "    \n",
    "#### 2. 퍼셉트론 학습 규칙\n",
    "  \n",
    "1. 가중치를 0 or 랜덤한 작은 값으로 초기화\n",
    "2. 각 훈련 샘플 $\\boldsymbol{x}^{(i)}$에서 출력값 $\\hat{(y)}$ 계산, 가중치 업데이트  \n",
    "\n",
    "가중치 업데이트: \n",
    "$$w_j := w_j + \\vartriangle\\!w_j$$  \n",
    "$$\\vartriangle\\!w_j = \\eta(y^{(i)}-\\hat{y}^{(i)})x^{(i)}_j$$  \n",
    "\n",
    "$\\eta$ : 학습률(learning rate, 0.0~1,0 실수)  \n",
    "$y^{(i)}$ : 진짜 클래스 레이블(true class label), 실제 샘플\n",
    "$\\hat{y}^{(i)}$ : 예측 클래스 레이블(predicted class label), 퍼셉트론이 예측한 레이블\n",
    "\n",
    "#### 3. 퍼셉트론 구현\n",
    "\n",
    "OOP를 사용해 퍼셉트론 클래스를 구현했다. Perceptron객체 초기화 후 fit 메서드로 학습, predict 메서드로 예측을 만든다.\n"
   ]
  },
  {
   "cell_type": "code",
   "execution_count": 9,
   "metadata": {},
   "outputs": [],
   "source": [
    "import numpy as np\n",
    "\n",
    "class Perceptron(object):\n",
    "  \"\"\"퍼셉트론 분류기\n",
    "\n",
    "  매개변수\n",
    "  ------------\n",
    "  eta : float\n",
    "    learning rate(0.0 ~ 1.0)\n",
    "\n",
    "  n_iter : int\n",
    "    훈련 데이터셋 반복 횟수\n",
    "\n",
    "  random_state : int\n",
    "    가중치 무작위 초기화를 위한 난수 생성기 시드\n",
    "\n",
    "\n",
    "  속성\n",
    "  ------------\n",
    "  w_ : 1d-array\n",
    "    학습된 가중치\n",
    "\n",
    "  errors_ : list\n",
    "    epoch마다 누적된 분류 오류\n",
    "\n",
    "  \"\"\"\n",
    "  def __init__(self, eta=0.01, n_iter=50, random_state=1):\n",
    "    self.eta = eta\n",
    "    self.n_iter = n_iter\n",
    "    self.random_state = random_state\n",
    "\n",
    "  def fit(self,X,y):\n",
    "    \"\"\"훈련 데이터 학습\n",
    "\n",
    "    매개변수\n",
    "    ------------\n",
    "    X : {array-like}, shape = [n_samples, n_features]\n",
    "     n_samples개의 샘플과 n_features개의 특성으로 이루어진 훈련 데이터\n",
    "    \n",
    "    y : array-like, shape = [n_samples]\n",
    "     타깃 값\n",
    "    \"\"\"\n",
    "    rgen = np.random.RandomState(seed = self.random_state)\n",
    "    self.w_ = rgen.normal(loc=0.0, scale=0.01, size=1+X.shape[1])\n",
    "    self.errors_ = []\n",
    "\n",
    "    for _ in range(self.n_iter):\n",
    "      errors = 0\n",
    "      for xi,target in zip(X,y):\n",
    "        update = self.eta * (target - self.predict(xi))\n",
    "        self.w_[1:] += update * xi\n",
    "        self.w_[0] += update\n",
    "        errors += int(update != 0.0)\n",
    "      self.errors_.append(errors)\n",
    "\n",
    "    return self\n",
    "\n",
    "  def new_input(self, X):\n",
    "    \"\"\"최종 입력 계산\"\"\"\n",
    "    return np.dot(X, self.w_[1:]) + self.w_[0]\n",
    "    \n",
    "  def predict(self, X):\n",
    "    \"\"\"단위 계단 함수를 사용하여 클래스 레이블을 반환합니다\"\"\"\n",
    "    return np.where(self.new_input(X) >= 0.0, 1, -1)\n",
    "\n",
    "      \n"
   ]
  },
  {
   "cell_type": "markdown",
   "metadata": {},
   "source": [
    "fit 메서드를 따로 놓고 보자.  \n",
    "\n",
    "```python\n",
    "def fit(self,X,y):\n",
    "    rgen = np.random.RandomState(seed = self.random_state)\n",
    "    self.w_ = rgen.normal(loc=0.0, scale=0.01, size=1+X.shape[1])\n",
    "    self.errors_ = []\n",
    "\n",
    "    for _ in range(self.n_iter):\n",
    "      errors = 0\n",
    "      for xi,target in zip(X,y):\n",
    "        update = self.eta * (target - self.predict(xi))\n",
    "        self.w_[1:] += update * xi\n",
    "        self.w_[0] += update\n",
    "        errors += int(update != 0.0)\n",
    "      self.errors_.append(errors)\n",
    "\n",
    "    return self\n",
    "```  \n",
    "\n",
    "self.w_ 가중치를 $\\mathbb{R}^{m+1}$로 초기화한다. $m$은 데이터셋에 있는 차원의 개수이다.  \n",
    "intercept(self.w_[0])를 위해 +1을 더한다.  \n",
    "`rgen.normal(loc=0.0, scale=0.01, size=1+X.shape[1])`: sigma가 0.01인 정규 분포에서 뽑은 랜덤한 작은 수를 담는다. rgen은 numpy의 난수 생성기로 지정한 seed를 이용해 난수를 생성한다.\n",
    "\n",
    "self.w_[1:] += update * xi : $\\vartriangle\\!w_j = \\eta(y^{(i)}-\\hat{y}^{(i)})x^{(i)}_j$\n"
   ]
  },
  {
   "cell_type": "markdown",
   "metadata": {},
   "source": [
    "#### 4. 붓꽃 데이터셋에서 퍼셉트론 훈련\n",
    "\n",
    "pandas 라이브러리를 이용해 DataFrame객체로 붓꽃 데이터셋을 load한다."
   ]
  },
  {
   "cell_type": "code",
   "execution_count": 14,
   "metadata": {},
   "outputs": [
    {
     "data": {
      "text/html": [
       "<div>\n",
       "<style scoped>\n",
       "    .dataframe tbody tr th:only-of-type {\n",
       "        vertical-align: middle;\n",
       "    }\n",
       "\n",
       "    .dataframe tbody tr th {\n",
       "        vertical-align: top;\n",
       "    }\n",
       "\n",
       "    .dataframe thead th {\n",
       "        text-align: right;\n",
       "    }\n",
       "</style>\n",
       "<table border=\"1\" class=\"dataframe\">\n",
       "  <thead>\n",
       "    <tr style=\"text-align: right;\">\n",
       "      <th></th>\n",
       "      <th>0</th>\n",
       "      <th>1</th>\n",
       "      <th>2</th>\n",
       "      <th>3</th>\n",
       "      <th>4</th>\n",
       "    </tr>\n",
       "  </thead>\n",
       "  <tbody>\n",
       "    <tr>\n",
       "      <th>145</th>\n",
       "      <td>6.7</td>\n",
       "      <td>3.0</td>\n",
       "      <td>5.2</td>\n",
       "      <td>2.3</td>\n",
       "      <td>Iris-virginica</td>\n",
       "    </tr>\n",
       "    <tr>\n",
       "      <th>146</th>\n",
       "      <td>6.3</td>\n",
       "      <td>2.5</td>\n",
       "      <td>5.0</td>\n",
       "      <td>1.9</td>\n",
       "      <td>Iris-virginica</td>\n",
       "    </tr>\n",
       "    <tr>\n",
       "      <th>147</th>\n",
       "      <td>6.5</td>\n",
       "      <td>3.0</td>\n",
       "      <td>5.2</td>\n",
       "      <td>2.0</td>\n",
       "      <td>Iris-virginica</td>\n",
       "    </tr>\n",
       "    <tr>\n",
       "      <th>148</th>\n",
       "      <td>6.2</td>\n",
       "      <td>3.4</td>\n",
       "      <td>5.4</td>\n",
       "      <td>2.3</td>\n",
       "      <td>Iris-virginica</td>\n",
       "    </tr>\n",
       "    <tr>\n",
       "      <th>149</th>\n",
       "      <td>5.9</td>\n",
       "      <td>3.0</td>\n",
       "      <td>5.1</td>\n",
       "      <td>1.8</td>\n",
       "      <td>Iris-virginica</td>\n",
       "    </tr>\n",
       "  </tbody>\n",
       "</table>\n",
       "</div>"
      ],
      "text/plain": [
       "       0    1    2    3               4\n",
       "145  6.7  3.0  5.2  2.3  Iris-virginica\n",
       "146  6.3  2.5  5.0  1.9  Iris-virginica\n",
       "147  6.5  3.0  5.2  2.0  Iris-virginica\n",
       "148  6.2  3.4  5.4  2.3  Iris-virginica\n",
       "149  5.9  3.0  5.1  1.8  Iris-virginica"
      ]
     },
     "execution_count": 14,
     "metadata": {},
     "output_type": "execute_result"
    }
   ],
   "source": [
    "import pandas as pd\n",
    "\n",
    "df = pd.read_csv('https://archive.ics.uci.edu/ml/machine-learning-databases/iris/iris.data', header = None)\n",
    "df.tail()"
   ]
  },
  {
   "cell_type": "markdown",
   "metadata": {},
   "source": [
    "클래스 레이블을 정수 클래스 versicolor: 1, setosa: -1 로 바꾼 후 y에 저장\n",
    "첫 열(꽃받침 길이)와 세번째 열(꽃잎 길이)를 특성 행렬 X에 저장\n",
    "scatter plot(2차원 산점도)로 시각화"
   ]
  },
  {
   "cell_type": "code",
   "execution_count": 15,
   "metadata": {},
   "outputs": [
    {
     "data": {
      "image/png": "[encoded data removed]",
      "text/plain": [
       "<Figure size 432x288 with 1 Axes>"
      ]
     },
     "metadata": {
      "needs_background": "light"
     },
     "output_type": "display_data"
    }
   ],
   "source": [
    "import matplotlib.pyplot as plt\n",
    "import numpy as np\n",
    "\n",
    "y = df.iloc[0:100, 4].values #iloc: pandas의 함수로, 특정 행,열을 선택\n",
    "y = np.where(y == 'Iris-setosa', -1, 1)\n",
    "\n",
    "X = df.iloc[0:100, [0,2]].values\n",
    "\n",
    "plt.scatter(X[:50, 0], X[:50, 1], color = 'red', marker = 'o', label = 'setosa')\n",
    "plt.scatter(X[50:100, 0], X[50:100, 1], color = 'blue', marker = 'x', label = 'versicolor')\n",
    "plt.xlabel('sepal length [cm]')\n",
    "plt.ylabel('petal length [cm]')\n",
    "plt.legend(loc='upper left')\n",
    "plt.show()\n"
   ]
  },
  {
   "cell_type": "markdown",
   "metadata": {},
   "source": [
    "위 데이터를 이용해 퍼셉트론 알고리즘을 훈련한다."
   ]
  },
  {
   "cell_type": "code",
   "execution_count": 16,
   "metadata": {},
   "outputs": [
    {
     "data": {
      "text/plain": [
       "<function matplotlib.pyplot.show(close=None, block=None)>"
      ]
     },
     "execution_count": 16,
     "metadata": {},
     "output_type": "execute_result"
    },
    {
     "data": {
      "image/png": "[encoded data removed]",
      "text/plain": [
       "<Figure size 432x288 with 1 Axes>"
      ]
     },
     "metadata": {
      "needs_background": "light"
     },
     "output_type": "display_data"
    }
   ],
   "source": [
    "ppn = Perceptron(eta = 0.1, n_iter = 10)\n",
    "ppn.fit(X,y)\n",
    "plt.plot(range(1,len(ppn.errors_) + 1), ppn.errors_, marker='o')\n",
    "plt.xlabel('Epochs')\n",
    "plt.ylabel('Number of errors')\n",
    "plt.show"
   ]
  },
  {
   "cell_type": "markdown",
   "metadata": {},
   "source": [
    "퍼셉트론은 6th epoch 이후 수렴했고 training sample을 완벽하게 분류했다.  \n",
    "2차원 데이터셋의 결정 경계를 시각화해보자."
   ]
  },
  {
   "cell_type": "code",
   "execution_count": 28,
   "metadata": {},
   "outputs": [],
   "source": [
    "from matplotlib.colors import ListedColormap\n",
    "\n",
    "def plot_decision_regions(X,y,classifier,resolution=0.02):\n",
    "    \n",
    "    # 마커와 컬러맵 설정\n",
    "    markers = ('s', 'x', 'o', '^', 'v') # 사각형, 곱셈 기호, 원, 삼각형, 뒤집힌 삼각형\n",
    "    colors = ('red', 'blue', 'lightgreen', 'gray', 'cyan')\n",
    "    cmap = ListedColormap(colors[:len(np.unique(y))]) # unique: numpy함수로, 고유값 반환\n",
    "\n",
    "    # 결정 경계(Decision Boundary) 그리기\n",
    "    x1_min, x1_max = X[:, 0].min() - 1, X[:, 0].max() + 1\n",
    "    x2_min, x2_max = X[:, 1].min() - 1, X[:, 1].max() + 1\n",
    "\n",
    "    xx1, xx2 = np.meshgrid(np.arange(x1_min, x1_max, resolution), \\\n",
    "                           np.arange(x2_min, x2_max, resolution))\n",
    "\n",
    "    Z = classifier.predict(np.array([xx1.ravel(), xx2.ravel()]).T) \n",
    "    #ravel: 1차원으로 만들어주는 numpy 함수\n",
    "    Z = Z.reshape(xx1.shape)\n",
    "\n",
    "    plt.contourf(xx1, xx2, Z, alpha=0.3, cmap=cmap) \n",
    "    #contourf: python함수, 2차원 등고선 플롯/ alpha: 투명도/ cmap: Colormap, 레벨 값을 색에 매핑 \n",
    "    plt.xlim(xx1.min(), xx1.max())\n",
    "    plt.ylim(xx2.min(), xx2.max())\n",
    "\n",
    "    #산점도 그리기\n",
    "    for idx, cl in enumerate(np.unique(y)):\n",
    "        plt.scatter(x=X[y == cl, 0],y=X[y == cl, 1], alpha=0.8, c=colors[idx], marker=markers[idx],label=cl, edgecolor = 'black')\n",
    "\n"
   ]
  },
  {
   "cell_type": "markdown",
   "metadata": {},
   "source": [
    "두 특성의 최소 최대를 찾고 이 벡터로 meshgrid함수로 xx1, xx2쌍을 만든다. 배열을 펼치고 전치해 열이 2개가 되도록 한다.\n",
    "predict메서드로 그리드 각 포인트에 대응하는 클래스 레이블 Z를 예측한다.\n",
    "\n",
    "클래스 레이블 Z를 xx1,xx2와 같은 차원의 그리드로 크기를 변경 후, plt.contour함수로 등고선 그래프를 그린다."
   ]
  },
  {
   "cell_type": "code",
   "execution_count": 29,
   "metadata": {},
   "outputs": [
    {
     "name": "stderr",
     "output_type": "stream",
     "text": [
      "/var/folders/93/wz9d35t12bggw18wk6g_80j80000gn/T/ipykernel_4080/3657750685.py:28: UserWarning: You passed a edgecolor/edgecolors ('black') for an unfilled marker ('x').  Matplotlib is ignoring the edgecolor in favor of the facecolor.  This behavior may change in the future.\n",
      "  plt.scatter(x=X[y == cl, 0],y=X[y == cl, 1], alpha=0.8, c=colors[idx], marker=markers[idx],label=cl, edgecolor = 'black')\n"
     ]
    },
    {
     "data": {
      "image/png": "[encoded data removed]",
      "text/plain": [
       "<Figure size 432x288 with 1 Axes>"
      ]
     },
     "metadata": {
      "needs_background": "light"
     },
     "output_type": "display_data"
    }
   ],
   "source": [
    "plot_decision_regions(X, y, classifier=ppn)\n",
    "plt.xlabel('sepal length [cm]')\n",
    "plt.ylabel('petal length [cm]')\n",
    "plt.legend(loc='upper left')\n",
    "plt.show()"
   ]
  },
  {
   "cell_type": "code",
   "execution_count": null,
   "metadata": {},
   "outputs": [],
   "source": []
  },
  {
   "cell_type": "code",
   "execution_count": null,
   "metadata": {},
   "outputs": [],
   "source": []
  }
 ],
 "metadata": {
  "interpreter": {
   "hash": "09c0d7d4055326ad7c6999824d13839e4975dd8ee62c88239c3b47489af205d2"
  },
  "kernelspec": {
   "display_name": "Python 3.10.4 ('virtual')",
   "language": "python",
   "name": "python3"
  },
  "language_info": {
   "codemirror_mode": {
    "name": "ipython",
    "version": 3
   },
   "file_extension": ".py",
   "mimetype": "text/x-python",
   "name": "python",
   "nbconvert_exporter": "python",
   "pygments_lexer": "ipython3",
   "version": "3.10.4"
  },
  "orig_nbformat": 4
 },
 "nbformat": 4,
 "nbformat_minor": 2
}
