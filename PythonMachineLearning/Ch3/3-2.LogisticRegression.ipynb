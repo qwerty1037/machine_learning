{
 "cells": [
  {
   "cell_type": "markdown",
   "metadata": {},
   "source": [
    "#### 부록: 선행 데이터셋, 함수"
   ]
  },
  {
   "cell_type": "code",
   "execution_count": 1,
   "metadata": {},
   "outputs": [],
   "source": [
    "from sklearn import datasets\n",
    "import numpy as np\n",
    "from sklearn.model_selection import train_test_split\n",
    "from sklearn.preprocessing import StandardScaler\n",
    "from matplotlib.colors import ListedColormap\n",
    "import matplotlib.pyplot as plt\n",
    "\n",
    "def plot_decision_regions(X, y, classifier, test_idx = None, resolution = 0.02):\n",
    "\n",
    "  # 마커와 컬러맵 설정\n",
    "  markers = ('s', 'x', 'o', '^', 'v') # 사각형, 곱셈 기호, 원, 삼각형, 뒤집힌 삼각형\n",
    "  colors = ('red', 'blue', 'lightgreen', 'gray', 'cyan')\n",
    "  cmap = ListedColormap(colors[:len(np.unique(y))]) # unique: numpy함수로, 고유값 반환\n",
    "\n",
    "  # 결정 경계(Decision Boundary) 그리기\n",
    "  x1_min, x1_max = X[:, 0].min() - 1, X[:, 0].max() + 1\n",
    "  x2_min, x2_max = X[:, 1].min() - 1, X[:, 1].max() + 1\n",
    "\n",
    "  xx1, xx2 = np.meshgrid(np.arange(x1_min, x1_max, resolution), \\\n",
    "                          np.arange(x2_min, x2_max, resolution))\n",
    "\n",
    "  Z = classifier.predict(np.array([xx1.ravel(), xx2.ravel()]).T) \n",
    "  #ravel: 1차원으로 만들어주는 numpy 함수\n",
    "  Z = Z.reshape(xx1.shape)\n",
    "\n",
    "  plt.contourf(xx1, xx2, Z, alpha=0.3, cmap=cmap) \n",
    "  #contourf: python함수, 2차원 등고선 플롯/ alpha: 투명도/ cmap: Colormap, 레벨 값을 색에 매핑 \n",
    "  plt.xlim(xx1.min(), xx1.max())\n",
    "  plt.ylim(xx2.min(), xx2.max())\n",
    "\n",
    "  #산점도 그리기\n",
    "  for idx, cl in enumerate(np.unique(y)):\n",
    "    plt.scatter(x=X[y == cl, 0],y=X[y == cl, 1], alpha=0.8, c=colors[idx], \\\n",
    "      marker=markers[idx],label=cl, edgecolor = 'black')\n",
    "\n",
    "  #테스트 샘플 부각\n",
    "  if test_idx:\n",
    "    X_test, y_test = X[test_idx, :], y[test_idx]\n",
    "    plt.scatter(X_test[:, 0],X_test[:, 1], alpha=1.0, c='None', marker='o', \\\n",
    "      label='test set',linewidth = 1, s = 100, edgecolor = 'black')\n",
    "\n",
    "iris = datasets.load_iris()\n",
    "X = iris.data[:,[2,3]]\n",
    "y = iris.target\n",
    "X_train, X_test, y_train, y_test = train_test_split(X, y, test_size = 0.3, random_state = 1, stratify = y)\n",
    "sc = StandardScaler()\n",
    "sc.fit(X_train)\n",
    "X_train_std = sc.transform(X_train)\n",
    "X_test_std = sc.transform(X_test)\n",
    "X_combined_std = np.vstack((X_train_std, X_test_std)) #vertical stack\n",
    "y_combined = np.hstack((y_train, y_test)) #horizontal stack"
   ]
  },
  {
   "cell_type": "markdown",
   "metadata": {},
   "source": [
    "### 3-2. 로지스틱 회귀(Logistic Regression)\n",
    "\n",
    "---\n",
    "\n",
    "로지스틱 회귀는 선형적으로 구분되는 클래스에 뛰어난 성능을 내는 분류 모델  \n",
    "\n",
    "이진 분류를 위한 선형 모델이지만 다중 분류로 확장 가능<br/><br/>    \n",
    "  \n",
    "* 로지스틱 시그모이드 함수  \n",
    "\n",
    "  Odds는 특정 이벤트가 발생할 확률이다. 이를 비율로 취한 Odds Ratio = $P \\over (1-P)$  \n",
    "\n",
    "  오즈비에 log를 취해 logit함수를 정의한다.\n",
    "\n",
    "  $$\\mathit{logit} (P) = log {P \\over (1 - P)}$$\n",
    "\n",
    "  특성의 가중치 합과 로그 오즈 사이의 선형 관계를 다음과 같이 쓸 수 있다.\n",
    "\n",
    "  $$\\mathit{logit} (P(y = 1 | x)) = \\sum_{i=0}^m w_ix_i = \\boldsymbol{w}^T\\boldsymbol{x}$$\n",
    "\n",
    "  z가 주어졌을 때 P를 예측하는 것이 목적이므로, 역함수를 취한다.\n",
    "\n",
    "  $$log {P \\over (1 - P)} = \\boldsymbol{w}^T\\boldsymbol{x} = z,\\quad {P \\over (1 - P)} = e^z,\\quad P = {1 \\over {1+e^{-z}}}$$\n",
    "  \n",
    "  따라서 **로지스틱 시그모이드 함수**(logistic sigmoid function)\n",
    "\n",
    "  $$\\phi(z) = {1\\over {1+e^{-z}}}, \\quad z = \\boldsymbol{w}^T\\boldsymbol{x}$$\n",
    "\n",
    "  sigmoid function을 그려 보자."
   ]
  },
  {
   "cell_type": "code",
   "execution_count": 2,
   "metadata": {},
   "outputs": [
    {
     "data": {
      "image/png": "[encoded data removed]",
      "text/plain": [
       "<Figure size 432x288 with 1 Axes>"
      ]
     },
     "metadata": {
      "needs_background": "light"
     },
     "output_type": "display_data"
    }
   ],
   "source": [
    "import matplotlib.pyplot as plt\n",
    "import numpy as np\n",
    "\n",
    "def sigmoid(z):\n",
    "  return 1.0 / (1.0 + np.exp(-z))\n",
    "\n",
    "z = np.arange(-10,10,0.1)\n",
    "phi_z = sigmoid(z)\n",
    "plt.plot(z,phi_z)\n",
    "plt.axvline(0.0, color='k')\n",
    "plt.ylim(-0.1, 1.1)\n",
    "plt.xlabel('z')\n",
    "plt.ylabel('$\\phi(z)$')\n",
    "plt.yticks([0.0,0.5,1.0]) # 격자선\n",
    "ax = plt.gca() # 현재 ax개체 반환\n",
    "ax.yaxis.grid(True)\n",
    "plt.tight_layout()\n",
    "plt.show()"
   ]
  },
  {
   "cell_type": "markdown",
   "metadata": {},
   "source": [
    "$z \\rightarrow \\infty$ : $\\phi(z) \\rightarrow 1$  \n",
    "\n",
    "$z \\rightarrow -\\infty$ : $\\phi(z) \\rightarrow 0$\n",
    "\n",
    "시그모이드 함수는 실수 입력값을 [0,1]사이 값으로 반환하고, 중간은 $\\phi(0)=0.5$이다.  \n",
    "\n",
    "$\\phi(z) = 0.6$ 이라면 이 샘플은 클래스 1일 확률이 60%이다.  \n",
    "\n",
    "임계 함수를 이용해 예측 확률을 이진 출력으로 바꿀 수 있다.\n",
    "\n",
    "$$\\hat{y} = \\begin{cases} 1 & \\phi(z) \\ge 0.5 \\ \\ (z \\ge 0.0) \\\\ 0 & else \\end{cases}$$\n",
    "\n",
    "클래스 레이블을 예측하는 것 외에 클래스에 소속될 확률을 추정하는 것이 유용할 경우 강력<br/><br/>  \n",
    "\n",
    "\n",
    "* 로지스틱 회귀모델의 손실 함수\n",
    "\n",
    "  Ch2에서 배운 퍼셉트론과 아달린에서, 비용 함수로 MSE(Mean Squared Error)를 사용하였다.  \n",
    "\n",
    "  그러나 로지스틱 회귀에서는 MSE를 비용 함수로 사용할 수 없다.  \n",
    "\n",
    "  <img src=\"3-2_image/lr_mse.png\" width=\"60%\" height=\"60%\" title=\"Logistic Regression Cost Function\"></img>\n",
    "\n",
    "  평야가 많아 Gradient Descent 알고리즘이 제대로 동작하지 않는다.(non-convex)  \n",
    "\n",
    "  따라서 다른 비용함수를 정의해야 한다.  \n",
    "\n",
    "  이를 위해 로그 가능도 함수(Log-Likelihood Function)을 사용한다.  \n",
    "  가능도(우도)함수에 대해서는 추후 포스팅을 통해 상세하게 설명하겠다.  \n",
    "\n",
    "  $$l(\\boldsymbol{w}) = \\sum_{i=1}^n \\left[{ y^{(i)}log(\\phi(z^{(i)}))+(1-y^{(i)})log(1-\\phi(z^{(i)}))} \\right]$$\n",
    "\n",
    "  부호를 반대로 하면 비용함수 $J$를 정의할 수 있다.  \n",
    "  이 함수는 Convex하고, 잘못된 예측에 큰 비용을 부과한다.\n",
    "\n",
    "  $$J(\\boldsymbol{w}) = \\sum_{i=1}^n \\left[{ -y^{(i)}log(\\phi(z^{(i)}))-(1-y^{(i)})log(1-\\phi(z^{(i)}))} \\right]$$\n",
    "\n",
    "  샘플이 하나일 때 비용을 계산해보자.  \n",
    "  $y=0$일 때 첫 항이 0이,  $y=1$일 때 둘째 항이 0이 된다.\n",
    "\n",
    "  $$J(\\phi(z),y;\\boldsymbol{w}) = \\begin{cases} -log(\\phi(z)) & y=1 \\\\ -log(1-\\phi(z)) & y=0 \\end{cases}$$\n",
    "\n",
    "  이를 도시화해보자.  "
   ]
  },
  {
   "cell_type": "code",
   "execution_count": 3,
   "metadata": {},
   "outputs": [
    {
     "data": {
      "image/png": "[encoded data removed]",
      "text/plain": [
       "<Figure size 432x288 with 1 Axes>"
      ]
     },
     "metadata": {
      "needs_background": "light"
     },
     "output_type": "display_data"
    }
   ],
   "source": [
    "def cost_1(z):\n",
    "  return -np.log(sigmoid(z))\n",
    "def cost_0(z):\n",
    "  return -np.log(1 - sigmoid(z))\n",
    "\n",
    "z = np.arange(-10,10,0.1)\n",
    "phi_z = sigmoid(z)\n",
    "c1 = [cost_1(x) for x in z]\n",
    "c0 = [cost_0(x) for x in z]\n",
    "plt.plot(phi_z, c1, label = 'J(w) if y=1')  \n",
    "plt.plot(phi_z, c0, label = 'J(w) if y=0', linestyle = '--')  \n",
    "plt.xlabel('$\\phi(z)$')\n",
    "plt.ylabel('$J(w)$')\n",
    "plt.xlim([0,1])\n",
    "plt.ylim(0.0,5.1)\n",
    "plt.legend(loc='best')\n",
    "plt.tight_layout()\n",
    "plt.show()"
   ]
  },
  {
   "cell_type": "markdown",
   "metadata": {},
   "source": [
    "  잘못된 예측에 점점 큰 비용을 부과하는 것을 알 수 있다.<br/><br/>  \n",
    "\n",
    "  * 로지스틱 회귀 구현\n",
    "\n",
    "로지스틱 회귀를 구현해 보자. 2-2 아달린 구현에서 비용함수 J를 로지스틱 회귀에 맞게 바꾸면 된다."
   ]
  },
  {
   "cell_type": "code",
   "execution_count": 4,
   "metadata": {},
   "outputs": [],
   "source": [
    "import numpy as np\n",
    "\n",
    "class LogisticRegressionGD(object):\n",
    "  \"\"\"적응형 선형 뉴런 분류기\n",
    "\n",
    "  매개변수\n",
    "  ------------\n",
    "  eta : float\n",
    "    learning rate(0.0 ~ 1.0)\n",
    "\n",
    "  n_iter : int\n",
    "    훈련 데이터셋 반복 횟수\n",
    "\n",
    "  random_state : int\n",
    "    가중치 무작위 초기화를 위한 난수 생성기 시드\n",
    "\n",
    "\n",
    "  속성\n",
    "  ------------\n",
    "  w_ : 1d-array\n",
    "    학습된 가중치\n",
    "\n",
    "  cost_ : list\n",
    "    epoch마다 누적된 비용 함수의 제곱합\n",
    "\n",
    "  \"\"\"\n",
    "  def __init__(self, eta=0.05, n_iter=100, random_state=1):\n",
    "    self.eta = eta\n",
    "    self.n_iter = n_iter\n",
    "    self.random_state = random_state\n",
    "\n",
    "  def fit(self,X,y):\n",
    "    \"\"\"훈련 데이터 학습\n",
    "\n",
    "    매개변수\n",
    "    ------------\n",
    "    X : {array-like}, shape = [n_samples, n_features]\n",
    "     n_samples개의 샘플과 n_features개의 특성으로 이루어진 훈련 데이터\n",
    "    \n",
    "    y : array-like, shape = [n_samples]\n",
    "     타깃 값\n",
    "\n",
    "    반환 값\n",
    "    ------------\n",
    "    self : object\n",
    "\n",
    "    \"\"\"\n",
    "    rgen = np.random.RandomState(seed = self.random_state)\n",
    "    self.w_ = rgen.normal(loc=0.0, scale=0.01, size=1+X.shape[1])\n",
    "    self.cost_ = []\n",
    "\n",
    "    for i in range(self.n_iter):\n",
    "      net_input = self.net_input(X)\n",
    "      output = self.activation(net_input)\n",
    "      errors = (y - output)\n",
    "      self.w_[1:] += self.eta * X.T.dot(errors)\n",
    "      self.w_[0] += self.eta * errors.sum()\n",
    "      #Logistic Regression Cost Function\n",
    "      cost = (-y.dot(np.log(output)) - (1 - y).dot(np.log(1 - output)))\n",
    "      self.cost_.append(cost)\n",
    "\n",
    "    return self\n",
    "\n",
    "  def net_input(self, X):\n",
    "    \"\"\"최종 입력 계산\"\"\"\n",
    "    return np.dot(X, self.w_[1:]) + self.w_[0]\n",
    "\n",
    "  def activation(self ,z):\n",
    "    \"\"\"로지스틱 시그모이드 활성화 계산\"\"\"\n",
    "    return 1. / (1. + np.exp(-np.clip(z, -250, 250)))\n",
    "    \n",
    "  def predict(self, X):\n",
    "    \"\"\"단위 계단 함수를 사용하여 클래스 레이블을 반환합니다\"\"\"\n",
    "    return np.where(self.net_input(X) >= 0.0, 1, 0)"
   ]
  },
  {
   "cell_type": "markdown",
   "metadata": {},
   "source": [
    "붓꽃 데이터셋을 이용해 이진 분류 문제에 대한 로지스틱 회귀 구현을 도시화한다.<br/>  "
   ]
  },
  {
   "cell_type": "code",
   "execution_count": 5,
   "metadata": {},
   "outputs": [
    {
     "name": "stderr",
     "output_type": "stream",
     "text": [
      "/var/folders/93/wz9d35t12bggw18wk6g_80j80000gn/T/ipykernel_26087/3346279272.py:33: UserWarning: You passed a edgecolor/edgecolors ('black') for an unfilled marker ('x').  Matplotlib is ignoring the edgecolor in favor of the facecolor.  This behavior may change in the future.\n",
      "  plt.scatter(x=X[y == cl, 0],y=X[y == cl, 1], alpha=0.8, c=colors[idx], \\\n"
     ]
    },
    {
     "data": {
      "image/png": "[encoded data removed]",
      "text/plain": [
       "<Figure size 432x288 with 1 Axes>"
      ]
     },
     "metadata": {
      "needs_background": "light"
     },
     "output_type": "display_data"
    }
   ],
   "source": [
    "X_train_01_subset = X_train[(y_train == 0) | (y_train == 1)]\n",
    "y_train_01_subset = y_train[(y_train == 0) | (y_train == 1)]\n",
    "\n",
    "lrgd = LogisticRegressionGD(eta = 0.05, n_iter = 1000, random_state=1)\n",
    "lrgd.fit(X_train_01_subset, y_train_01_subset)\n",
    "\n",
    "plot_decision_regions(X = X_train_01_subset, y = y_train_01_subset, classifier=lrgd)\n",
    "plt.xlabel('petal length [standardized]')\n",
    "plt.ylabel('petal width [standardized]')\n",
    "plt.legend(loc='upper left')\n",
    "plt.tight_layout()\n",
    "plt.show()"
   ]
  },
  {
   "cell_type": "markdown",
   "metadata": {},
   "source": [
    "* 사이킷런을 사용해 로지스틱 회귀 모델 훈련\n",
    "\n",
    "사이킷런에서 로지스틱 회귀를 사용하는 법을 알아보자.  \n",
    "\n",
    "sklearn.linear_model.LogisticRegression의 fit메서드를 사용하여 표준화 처리된 붓꽃 데이터셋의 클래스 3개를 대상으로 훈련한다."
   ]
  },
  {
   "cell_type": "code",
   "execution_count": 6,
   "metadata": {},
   "outputs": [
    {
     "name": "stderr",
     "output_type": "stream",
     "text": [
      "/var/folders/93/wz9d35t12bggw18wk6g_80j80000gn/T/ipykernel_26087/3346279272.py:33: UserWarning: You passed a edgecolor/edgecolors ('black') for an unfilled marker ('x').  Matplotlib is ignoring the edgecolor in favor of the facecolor.  This behavior may change in the future.\n",
      "  plt.scatter(x=X[y == cl, 0],y=X[y == cl, 1], alpha=0.8, c=colors[idx], \\\n"
     ]
    },
    {
     "data": {
      "image/png": "[encoded data removed]",
      "text/plain": [
       "<Figure size 432x288 with 1 Axes>"
      ]
     },
     "metadata": {
      "needs_background": "light"
     },
     "output_type": "display_data"
    }
   ],
   "source": [
    "from sklearn.linear_model import LogisticRegression\n",
    "\n",
    "lr = LogisticRegression(solver = 'liblinear', multi_class='auto', C=100.0, random_state=1)\n",
    "lr.fit(X_train_std, y_train)\n",
    "plot_decision_regions(X_combined_std, y_combined, classifier=lr, test_idx = range(105,150))\n",
    "plt.xlabel('petal length [standardized]')\n",
    "plt.ylabel('petal width [standardized]')\n",
    "plt.legend(loc='upper left')\n",
    "plt.tight_layout()\n",
    "plt.show()"
   ]
  },
  {
   "cell_type": "markdown",
   "metadata": {},
   "source": [
    "`C` : 매개변수, 규제  \n",
    "\n",
    "predict_proba 메서드를 사용해 샘플이 어떤 클래스에 속할 지 계산  \n",
    "사이킷런은 입력 데이터로 2차원 배열을 지원하므로 2차원 포맷으로 변경해야 한다.(ex: reshape)"
   ]
  },
  {
   "cell_type": "code",
   "execution_count": 7,
   "metadata": {},
   "outputs": [
    {
     "name": "stdout",
     "output_type": "stream",
     "text": [
      "각 클래스 소속 확률:\n",
      "[[3.17983737e-08 1.44886616e-01 8.55113353e-01]\n",
      " [8.33962295e-01 1.66037705e-01 4.55557009e-12]\n",
      " [8.48762934e-01 1.51237066e-01 4.63166788e-13]]\n",
      "클래스 레이블:\n",
      "[2 0 0]\n"
     ]
    },
    {
     "data": {
      "text/plain": [
       "array([2])"
      ]
     },
     "execution_count": 7,
     "metadata": {},
     "output_type": "execute_result"
    }
   ],
   "source": [
    "print(\"각 클래스 소속 확률:\")\n",
    "print(lr.predict_proba(X_test_std[:3,:]))\n",
    "print(\"클래스 레이블:\")\n",
    "print(lr.predict_proba(X_test_std[:3,:]).argmax(axis=1))\n",
    "#print(lr.predict(X_test_std[:3,:]))\n",
    "lr.predict(X_test_std[0,:].reshape(1,-1))"
   ]
  },
  {
   "cell_type": "markdown",
   "metadata": {},
   "source": [
    "* 규제(regularization)\n",
    "\n",
    "    편향(bias): 예측값이 정확한 값에서 얼마나 벗어났는가  $\\left(E[\\hat{f}(x)]-f(x)\\right)^2$\n",
    "\n",
    "    분산(variance): 예측값들끼리 얼마나 흩어져있는가 $E[(\\hat{f}(x)-E[\\hat{f}(x)])^2]$\n",
    "\n",
    "    과대적합(overfitting) : 낮은 편향, 높은 분산  \n",
    "\n",
    "    과소적합(underfitting) : 높은 편향, 낮은 분산  \n",
    "\n",
    "    <img src=\"3-2_image/overunderfitting.png\" width=\"60%\" height=\"60%\" title=\"Overfitting, UnderFitting\"></img>  \n",
    "\n",
    "    규제는 가중치를 제한하여 과대적합을 방지할 수 있는 유용한 방법이다.  \n",
    "\n",
    "    가중치를 제한하기 위해 추가적인 정보(편향)을 주입한다.  \n",
    "\n",
    "    모든 특성이 비슷한 스케일을 가져야 하므로, 특성 스케일 조정이 중요하다.  \n",
    "\n",
    "    다음과 같은 L2규제를 널리 쓴다. $\\lambda$는 규제 하이퍼파라미터이다.  \n",
    "\n",
    "    $${\\lambda \\over 2}\\lVert\\boldsymbol{w}\\rVert^2 = {\\lambda \\over 2}\\sum_{j=1}^m w_j^2$$\n",
    "\n",
    "    Logistic regression의 cost function에 규제항을 추가한다.  \n",
    "\n",
    "    $$J(\\boldsymbol{w}) = \\sum_{i=1}^n \\left[{ -y^{(i)}log(\\phi(z^{(i)}))-(1-y^{(i)})log(1-\\phi(z^{(i)}))} \\right] + {\\lambda \\over 2}\\lVert\\boldsymbol{w}\\rVert^2$$\n",
    "\n",
    "    사이킷런 LogisticRegression 클래스의 매개변수 C는 $\\lambda$의 역수로, C를 감소시키면 규제 강도가 증가한다.  \n",
    "\n",
    "    2개의 가중치에 대해 L2 규제 효과를 그래프로 도시해보자."
   ]
  },
  {
   "cell_type": "code",
   "execution_count": 8,
   "metadata": {},
   "outputs": [
    {
     "data": {
      "image/png": "[encoded data removed]",
      "text/plain": [
       "<Figure size 432x288 with 1 Axes>"
      ]
     },
     "metadata": {
      "needs_background": "light"
     },
     "output_type": "display_data"
    }
   ],
   "source": [
    "weights, params = [], []\n",
    "\n",
    "for c in np.arange(-5,5):\n",
    "    lr = LogisticRegression(solver='liblinear', multi_class='auto', C=10.**c, random_state = 1)\n",
    "    lr.fit(X_train_std, y_train)\n",
    "    weights.append(lr.coef_[1])\n",
    "    params.append(10.**c)\n",
    "\n",
    "weights = np.array(weights)\n",
    "plt.plot(params, weights[:,0], label = 'petal length')\n",
    "plt.plot(params, weights[:,1], linestyle='--', label='petal width')\n",
    "plt.ylabel('weight coefficient') # coefficient: 계수\n",
    "plt.xlabel('C')\n",
    "plt.legend(loc='upper left')\n",
    "plt.xscale('log')\n",
    "plt.show()"
   ]
  },
  {
   "cell_type": "markdown",
   "metadata": {},
   "source": [
    "매개변수 C가 감소하면 가중치 절댓값이 줄어드는, 즉 규제 강도가 증가하는 것을 확인할 수 있다."
   ]
  }
 ],
 "metadata": {
  "interpreter": {
   "hash": "09c0d7d4055326ad7c6999824d13839e4975dd8ee62c88239c3b47489af205d2"
  },
  "kernelspec": {
   "display_name": "Python 3.10.4 ('virtual')",
   "language": "python",
   "name": "python3"
  },
  "language_info": {
   "codemirror_mode": {
    "name": "ipython",
    "version": 3
   },
   "file_extension": ".py",
   "mimetype": "text/x-python",
   "name": "python",
   "nbconvert_exporter": "python",
   "pygments_lexer": "ipython3",
   "version": "3.10.4"
  },
  "orig_nbformat": 4
 },
 "nbformat": 4,
 "nbformat_minor": 2
}
