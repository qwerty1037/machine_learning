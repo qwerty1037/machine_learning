{
 "cells": [
  {
   "cell_type": "markdown",
   "metadata": {},
   "source": [
    "### 3-3. 서포트 벡터 머신을 사용한 최대 마진 분류\n",
    "\n",
    "---"
   ]
  },
  {
   "cell_type": "markdown",
   "metadata": {},
   "source": [
    "#### 1. 서포트 벡터 머신(Support Vector Machine, SVM)  \n",
    "\n",
    "<br/>서포트 벡터 머신 SVM은 퍼셉트론의 확장으로 생각할 수 있다.  \n",
    "\n",
    "퍼셉트론은 MSE를 최소화하는 것을 목표로 한다. SVM은 마진을 최대화하는 것을 목표로 한다.  \n",
    "\n",
    "<img src=\"3-3_image/supportvectormachine.webp\" width=\"60%\" height=\"60%\" title=\"SVM\">\n",
    "\n",
    "마진은 클래스를 구분하는 초평면(결정 경계)와 초평면에 가장 가까운 훈련 샘플 사이의 거리로 정의  \n",
    "\n",
    "이런 샘플을 **서포트 벡터**(support vector)라고 한다.\n",
    "\n",
    "---"
   ]
  },
  {
   "cell_type": "markdown",
   "metadata": {},
   "source": [
    "#### 2. 최대 마진  \n",
    "\n",
    "<br/> 큰 마진의 결정경계를 원하는 이유는 일반화 오차가 낮아지는 경향이 있기 때문이다.  \n",
    "\n",
    "결정 경계와 나란이 놓인 양성 샘플 쪽 초평면과 음성 샘플 쪽 초평면을 다음과 같이 쓸 수 있다.\n",
    "\n",
    "$$\\boldsymbol{w}^T\\boldsymbol{x} + b = 1 \\quad \\cdots 양성 초평면$$\n",
    "$$\\boldsymbol{w}^T\\boldsymbol{x} + b = -1 \\quad \\cdots 음성 초평면$$\n",
    "\n",
    "두 초평면 사이의 거리(마진)을 구하면,  \n",
    "\n",
    "$${\\boldsymbol{w}^T\\boldsymbol{x_{pos}} + b + 1\\over \\lVert\\boldsymbol{w}\\rVert} = {2 \\over \\lVert\\boldsymbol{w}\\rVert} $$\n",
    "\n",
    "SVM의 목적 함수는 샘플이 정확하게 분류된다는 제약 조건하에서 ${2 \\over \\lVert\\boldsymbol{w}\\rVert}$를 최대화함으로써 마진을 최대화한다.\n",
    "\n",
    "$$\\boldsymbol{w}^T\\boldsymbol{x} + b \\ge 1 \\quad y^{(i)} = 1일 때$$\n",
    "$$\\boldsymbol{w}^T\\boldsymbol{x} + b \\le -1 \\quad y^{(i)} = -1일 때$$\n",
    "$$i = 1 \\cdots N 까지$$\n",
    "\n",
    "이를 간단히 쓰면 다음과 같다.  \n",
    "\n",
    "$$y^{(i)}\\left(\\boldsymbol{w}^T\\boldsymbol{x}^{(i)} + b\\right) \\ge 1 \\quad \\forall_i$$\n"
   ]
  }
 ],
 "metadata": {
  "language_info": {
   "name": "python"
  },
  "orig_nbformat": 4
 },
 "nbformat": 4,
 "nbformat_minor": 2
}
